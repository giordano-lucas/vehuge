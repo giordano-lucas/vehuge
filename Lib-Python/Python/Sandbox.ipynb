{
 "cells": [
  {
   "cell_type": "code",
   "execution_count": 1,
   "metadata": {},
   "outputs": [],
   "source": [
    "import glob\n",
    "from IPython.display import display\n",
    "import matplotlib.pyplot as plt\n",
    "\n",
    "from sklearn.datasets import load_iris\n",
    "iris = load_iris()\n",
    "from sklearn.cluster import KMeans\n",
    "from sklearn.ensemble import RandomForestClassifier, IsolationForest\n",
    "from sklearn.tree import _tree, DecisionTreeClassifier\n",
    "from sklearn import tree\n",
    "\n",
    "import numpy as np\n",
    "import pandas as pd\n",
    "from pathlib import Path\n",
    "import random\n",
    "from scipy import stats\n",
    "from scipy.io.arff import loadarff\n",
    "\n",
    "from nodes import Node, GaussianLeaf\n",
    "from spn import SPN\n",
    "from learning import LearnSPN\n",
    "from utils import learncats\n",
    "from trees import Tree, RandomForest\n",
    "from sktrees import SKRandomForest, tree2spn\n",
    "\n",
    "%load_ext autoreload\n",
    "%autoreload 2"
   ]
  },
  {
   "cell_type": "code",
   "execution_count": 2,
   "metadata": {},
   "outputs": [],
   "source": [
    "def print_spn(node):\n",
    "    node.print()\n",
    "    for child in node.children:\n",
    "        print_spn(child)"
   ]
  },
  {
   "cell_type": "code",
   "execution_count": 3,
   "metadata": {},
   "outputs": [],
   "source": [
    "def get_dummies(data):\n",
    "    for col in data.columns:\n",
    "        data[col] = pd.Categorical(data[col])\n",
    "        data[col] = data[col].cat.codes\n",
    "    return data"
   ]
  },
  {
   "cell_type": "code",
   "execution_count": 61,
   "metadata": {},
   "outputs": [],
   "source": [
    "def fp(y, y_pred):\n",
    "    mask = y_pred >= 0\n",
    "    return np.mean(y_pred[mask] != y[mask])"
   ]
  },
  {
   "cell_type": "code",
   "execution_count": 62,
   "metadata": {},
   "outputs": [],
   "source": [
    "def fn(y, y_pred):\n",
    "    mask = y_pred <= 0\n",
    "    return np.mean(y_pred[mask] != y[mask])"
   ]
  },
  {
   "cell_type": "code",
   "execution_count": 69,
   "metadata": {},
   "outputs": [],
   "source": [
    "def tp(y, y_pred):\n",
    "    mask = y_pred >= 0\n",
    "    return np.mean(y_pred[mask] == y[mask])"
   ]
  },
  {
   "cell_type": "code",
   "execution_count": 66,
   "metadata": {},
   "outputs": [],
   "source": [
    "def tn(y, y_pred):\n",
    "    mask = y_pred <= 0\n",
    "    return np.mean(y_pred[mask] == y[mask])"
   ]
  },
  {
   "cell_type": "markdown",
   "metadata": {},
   "source": [
    "## Outlier Detection"
   ]
  },
  {
   "cell_type": "code",
   "execution_count": 97,
   "metadata": {},
   "outputs": [],
   "source": [
    "data = pd.read_csv('../data/csv/winequality_red.csv').values\n",
    "data[:, -1] -= 3\n",
    "X, y = data[:, :-1], data[:, -1]"
   ]
  },
  {
   "cell_type": "code",
   "execution_count": 102,
   "metadata": {},
   "outputs": [],
   "source": [
    "inliers = data[(y == 1) + (y == 2) + (y == 3) + (y == 4)]\n",
    "outliers = data[(y == 0) + (y == 5)]"
   ]
  },
  {
   "cell_type": "code",
   "execution_count": 104,
   "metadata": {},
   "outputs": [],
   "source": [
    "shuffle = np.random.choice(np.arange(inliers.shape[0]), inliers.shape[0], replace=False)\n",
    "train_data = inliers[shuffle[:int(.7*inliers.shape[0])], :]\n",
    "test_data = inliers[shuffle[int(.7*inliers.shape[0]):], :]"
   ]
  },
  {
   "cell_type": "code",
   "execution_count": 105,
   "metadata": {},
   "outputs": [],
   "source": [
    "X_train, y_train = train_data[:, :-1], train_data[:, -1]\n",
    "X_test, y_test = test_data[:, :-1], test_data[:, -1]"
   ]
  },
  {
   "cell_type": "code",
   "execution_count": 108,
   "metadata": {},
   "outputs": [],
   "source": [
    "rf = RandomForest(n_estimators=10)\n",
    "rf.fit(X_train, y_train)\n",
    "spn = rf.tospn()"
   ]
  },
  {
   "cell_type": "code",
   "execution_count": 110,
   "metadata": {},
   "outputs": [],
   "source": [
    "y_pred, logprs = spn.classify(X_test, classcol=-1, return_prob=True)"
   ]
  },
  {
   "cell_type": "code",
   "execution_count": 114,
   "metadata": {},
   "outputs": [],
   "source": [
    "oy_pred, ologprs = spn.classify(outliers[:, :-1], classcol=-1, return_prob=True)"
   ]
  },
  {
   "cell_type": "code",
   "execution_count": 117,
   "metadata": {},
   "outputs": [
    {
     "name": "stdout",
     "output_type": "stream",
     "text": [
      "37.484327105089356\n",
      "1.5122587053099386\n",
      "-49.77613637308498\n"
     ]
    }
   ],
   "source": [
    "print(max(logprs))\n",
    "print(np.mean(logprs))\n",
    "print(min(logprs))"
   ]
  },
  {
   "cell_type": "code",
   "execution_count": 116,
   "metadata": {},
   "outputs": [
    {
     "name": "stdout",
     "output_type": "stream",
     "text": [
      "4.703242020121373\n",
      "-7.106883801310878\n",
      "-26.718932610181948\n"
     ]
    }
   ],
   "source": [
    "print(max(ologprs))\n",
    "print(np.mean(ologprs))\n",
    "print(min(ologprs))"
   ]
  },
  {
   "cell_type": "code",
   "execution_count": 118,
   "metadata": {},
   "outputs": [],
   "source": [
    "isof = IsolationForest(n_estimators=100)\n",
    "y_pred = isof.fit_predict(data)"
   ]
  },
  {
   "cell_type": "code",
   "execution_count": 119,
   "metadata": {},
   "outputs": [],
   "source": [
    "y_true = np.ones(y.shape)\n",
    "y_true[(y == 0) + (y == 5)] = -1"
   ]
  },
  {
   "cell_type": "code",
   "execution_count": 120,
   "metadata": {},
   "outputs": [
    {
     "data": {
      "text/plain": [
       "0.9917469050894085"
      ]
     },
     "execution_count": 120,
     "metadata": {},
     "output_type": "execute_result"
    }
   ],
   "source": [
    "tp(y_true, y_pred)"
   ]
  },
  {
   "cell_type": "code",
   "execution_count": 121,
   "metadata": {},
   "outputs": [
    {
     "data": {
      "text/plain": [
       "0.008253094910591471"
      ]
     },
     "execution_count": 121,
     "metadata": {},
     "output_type": "execute_result"
    }
   ],
   "source": [
    "fp(y_true, y_pred)"
   ]
  },
  {
   "cell_type": "code",
   "execution_count": 122,
   "metadata": {},
   "outputs": [
    {
     "data": {
      "text/plain": [
       "0.1103448275862069"
      ]
     },
     "execution_count": 122,
     "metadata": {},
     "output_type": "execute_result"
    }
   ],
   "source": [
    "tn(y_true, y_pred)"
   ]
  },
  {
   "cell_type": "code",
   "execution_count": 123,
   "metadata": {},
   "outputs": [
    {
     "data": {
      "text/plain": [
       "0.8896551724137931"
      ]
     },
     "execution_count": 123,
     "metadata": {},
     "output_type": "execute_result"
    }
   ],
   "source": [
    "fn(y_true, y_pred)"
   ]
  },
  {
   "cell_type": "code",
   "execution_count": 76,
   "metadata": {},
   "outputs": [],
   "source": [
    "rf = RandomForest(n_estimators=10)\n",
    "rf.fit(X, y)"
   ]
  },
  {
   "cell_type": "markdown",
   "metadata": {},
   "source": [
    "## Playing with SPN Code"
   ]
  },
  {
   "cell_type": "code",
   "execution_count": 296,
   "metadata": {},
   "outputs": [],
   "source": [
    "file = '../data/arff/breast-cancer.arff'\n",
    "data = pd.DataFrame(loadarff(file)[0])\n",
    "data = get_dummies(data).values\n",
    "X = data[:, :-1]\n",
    "y = data[:, -1]"
   ]
  },
  {
   "cell_type": "code",
   "execution_count": 458,
   "metadata": {},
   "outputs": [],
   "source": [
    "data = pd.read_csv('../data/csv/winequality_red.csv').values\n",
    "X = data[:, :-1]\n",
    "y = data[:, -1]-3"
   ]
  },
  {
   "cell_type": "code",
   "execution_count": 449,
   "metadata": {},
   "outputs": [
    {
     "data": {
      "text/plain": [
       "array([[5.1, 3.5, 1.4, 0.2],\n",
       "       [4.9, 3. , 1.4, 0.2],\n",
       "       [4.7, 3.2, 1.3, 0.2],\n",
       "       [4.6, 3.1, 1.5, 0.2],\n",
       "       [5. , 3.6, 1.4, 0.2],\n",
       "       [5.4, 3.9, 1.7, 0.4],\n",
       "       [4.6, 3.4, 1.4, 0.3],\n",
       "       [5. , 3.4, 1.5, 0.2],\n",
       "       [4.4, 2.9, 1.4, 0.2],\n",
       "       [4.9, 3.1, 1.5, 0.1],\n",
       "       [5.4, 3.7, 1.5, 0.2],\n",
       "       [4.8, 3.4, 1.6, 0.2],\n",
       "       [4.8, 3. , 1.4, 0.1],\n",
       "       [4.3, 3. , 1.1, 0.1],\n",
       "       [5.8, 4. , 1.2, 0.2],\n",
       "       [5.7, 4.4, 1.5, 0.4],\n",
       "       [5.4, 3.9, 1.3, 0.4],\n",
       "       [5.1, 3.5, 1.4, 0.3],\n",
       "       [5.7, 3.8, 1.7, 0.3],\n",
       "       [5.1, 3.8, 1.5, 0.3],\n",
       "       [5.4, 3.4, 1.7, 0.2],\n",
       "       [5.1, 3.7, 1.5, 0.4],\n",
       "       [4.6, 3.6, 1. , 0.2],\n",
       "       [5.1, 3.3, 1.7, 0.5],\n",
       "       [4.8, 3.4, 1.9, 0.2],\n",
       "       [5. , 3. , 1.6, 0.2],\n",
       "       [5. , 3.4, 1.6, 0.4],\n",
       "       [5.2, 3.5, 1.5, 0.2],\n",
       "       [5.2, 3.4, 1.4, 0.2],\n",
       "       [4.7, 3.2, 1.6, 0.2],\n",
       "       [4.8, 3.1, 1.6, 0.2],\n",
       "       [5.4, 3.4, 1.5, 0.4],\n",
       "       [5.2, 4.1, 1.5, 0.1],\n",
       "       [5.5, 4.2, 1.4, 0.2],\n",
       "       [4.9, 3.1, 1.5, 0.2],\n",
       "       [5. , 3.2, 1.2, 0.2],\n",
       "       [5.5, 3.5, 1.3, 0.2],\n",
       "       [4.9, 3.6, 1.4, 0.1],\n",
       "       [4.4, 3. , 1.3, 0.2],\n",
       "       [5.1, 3.4, 1.5, 0.2],\n",
       "       [5. , 3.5, 1.3, 0.3],\n",
       "       [4.5, 2.3, 1.3, 0.3],\n",
       "       [4.4, 3.2, 1.3, 0.2],\n",
       "       [5. , 3.5, 1.6, 0.6],\n",
       "       [5.1, 3.8, 1.9, 0.4],\n",
       "       [4.8, 3. , 1.4, 0.3],\n",
       "       [5.1, 3.8, 1.6, 0.2],\n",
       "       [4.6, 3.2, 1.4, 0.2],\n",
       "       [5.3, 3.7, 1.5, 0.2],\n",
       "       [5. , 3.3, 1.4, 0.2],\n",
       "       [7. , 3.2, 4.7, 1.4],\n",
       "       [6.4, 3.2, 4.5, 1.5],\n",
       "       [6.9, 3.1, 4.9, 1.5],\n",
       "       [5.5, 2.3, 4. , 1.3],\n",
       "       [6.5, 2.8, 4.6, 1.5],\n",
       "       [5.7, 2.8, 4.5, 1.3],\n",
       "       [6.3, 3.3, 4.7, 1.6],\n",
       "       [4.9, 2.4, 3.3, 1. ],\n",
       "       [6.6, 2.9, 4.6, 1.3],\n",
       "       [5.2, 2.7, 3.9, 1.4],\n",
       "       [5. , 2. , 3.5, 1. ],\n",
       "       [5.9, 3. , 4.2, 1.5],\n",
       "       [6. , 2.2, 4. , 1. ],\n",
       "       [6.1, 2.9, 4.7, 1.4],\n",
       "       [5.6, 2.9, 3.6, 1.3],\n",
       "       [6.7, 3.1, 4.4, 1.4],\n",
       "       [5.6, 3. , 4.5, 1.5],\n",
       "       [5.8, 2.7, 4.1, 1. ],\n",
       "       [6.2, 2.2, 4.5, 1.5],\n",
       "       [5.6, 2.5, 3.9, 1.1],\n",
       "       [5.9, 3.2, 4.8, 1.8],\n",
       "       [6.1, 2.8, 4. , 1.3],\n",
       "       [6.3, 2.5, 4.9, 1.5],\n",
       "       [6.1, 2.8, 4.7, 1.2],\n",
       "       [6.4, 2.9, 4.3, 1.3],\n",
       "       [6.6, 3. , 4.4, 1.4],\n",
       "       [6.8, 2.8, 4.8, 1.4],\n",
       "       [6.7, 3. , 5. , 1.7],\n",
       "       [6. , 2.9, 4.5, 1.5],\n",
       "       [5.7, 2.6, 3.5, 1. ],\n",
       "       [5.5, 2.4, 3.8, 1.1],\n",
       "       [5.5, 2.4, 3.7, 1. ],\n",
       "       [5.8, 2.7, 3.9, 1.2],\n",
       "       [6. , 2.7, 5.1, 1.6],\n",
       "       [5.4, 3. , 4.5, 1.5],\n",
       "       [6. , 3.4, 4.5, 1.6],\n",
       "       [6.7, 3.1, 4.7, 1.5],\n",
       "       [6.3, 2.3, 4.4, 1.3],\n",
       "       [5.6, 3. , 4.1, 1.3],\n",
       "       [5.5, 2.5, 4. , 1.3],\n",
       "       [5.5, 2.6, 4.4, 1.2],\n",
       "       [6.1, 3. , 4.6, 1.4],\n",
       "       [5.8, 2.6, 4. , 1.2],\n",
       "       [5. , 2.3, 3.3, 1. ],\n",
       "       [5.6, 2.7, 4.2, 1.3],\n",
       "       [5.7, 3. , 4.2, 1.2],\n",
       "       [5.7, 2.9, 4.2, 1.3],\n",
       "       [6.2, 2.9, 4.3, 1.3],\n",
       "       [5.1, 2.5, 3. , 1.1],\n",
       "       [5.7, 2.8, 4.1, 1.3],\n",
       "       [6.3, 3.3, 6. , 2.5],\n",
       "       [5.8, 2.7, 5.1, 1.9],\n",
       "       [7.1, 3. , 5.9, 2.1],\n",
       "       [6.3, 2.9, 5.6, 1.8],\n",
       "       [6.5, 3. , 5.8, 2.2],\n",
       "       [7.6, 3. , 6.6, 2.1],\n",
       "       [4.9, 2.5, 4.5, 1.7],\n",
       "       [7.3, 2.9, 6.3, 1.8],\n",
       "       [6.7, 2.5, 5.8, 1.8],\n",
       "       [7.2, 3.6, 6.1, 2.5],\n",
       "       [6.5, 3.2, 5.1, 2. ],\n",
       "       [6.4, 2.7, 5.3, 1.9],\n",
       "       [6.8, 3. , 5.5, 2.1],\n",
       "       [5.7, 2.5, 5. , 2. ],\n",
       "       [5.8, 2.8, 5.1, 2.4],\n",
       "       [6.4, 3.2, 5.3, 2.3],\n",
       "       [6.5, 3. , 5.5, 1.8],\n",
       "       [7.7, 3.8, 6.7, 2.2],\n",
       "       [7.7, 2.6, 6.9, 2.3],\n",
       "       [6. , 2.2, 5. , 1.5],\n",
       "       [6.9, 3.2, 5.7, 2.3],\n",
       "       [5.6, 2.8, 4.9, 2. ],\n",
       "       [7.7, 2.8, 6.7, 2. ],\n",
       "       [6.3, 2.7, 4.9, 1.8],\n",
       "       [6.7, 3.3, 5.7, 2.1],\n",
       "       [7.2, 3.2, 6. , 1.8],\n",
       "       [6.2, 2.8, 4.8, 1.8],\n",
       "       [6.1, 3. , 4.9, 1.8],\n",
       "       [6.4, 2.8, 5.6, 2.1],\n",
       "       [7.2, 3. , 5.8, 1.6],\n",
       "       [7.4, 2.8, 6.1, 1.9],\n",
       "       [7.9, 3.8, 6.4, 2. ],\n",
       "       [6.4, 2.8, 5.6, 2.2],\n",
       "       [6.3, 2.8, 5.1, 1.5],\n",
       "       [6.1, 2.6, 5.6, 1.4],\n",
       "       [7.7, 3. , 6.1, 2.3],\n",
       "       [6.3, 3.4, 5.6, 2.4],\n",
       "       [6.4, 3.1, 5.5, 1.8],\n",
       "       [6. , 3. , 4.8, 1.8],\n",
       "       [6.9, 3.1, 5.4, 2.1],\n",
       "       [6.7, 3.1, 5.6, 2.4],\n",
       "       [6.9, 3.1, 5.1, 2.3],\n",
       "       [5.8, 2.7, 5.1, 1.9],\n",
       "       [6.8, 3.2, 5.9, 2.3],\n",
       "       [6.7, 3.3, 5.7, 2.5],\n",
       "       [6.7, 3. , 5.2, 2.3],\n",
       "       [6.3, 2.5, 5. , 1.9],\n",
       "       [6.5, 3. , 5.2, 2. ],\n",
       "       [6.2, 3.4, 5.4, 2.3],\n",
       "       [5.9, 3. , 5.1, 1.8]])"
      ]
     },
     "execution_count": 449,
     "metadata": {},
     "output_type": "execute_result"
    }
   ],
   "source": [
    "iris.data"
   ]
  },
  {
   "cell_type": "code",
   "execution_count": 450,
   "metadata": {},
   "outputs": [
    {
     "data": {
      "text/plain": [
       "array([1., 1., 1., 1., 3.])"
      ]
     },
     "execution_count": 450,
     "metadata": {},
     "output_type": "execute_result"
    }
   ],
   "source": [
    "tree.ncat"
   ]
  },
  {
   "cell_type": "code",
   "execution_count": 460,
   "metadata": {},
   "outputs": [],
   "source": [
    "tree = Tree(criterion='gini')\n",
    "tree.fit(X, y)"
   ]
  },
  {
   "cell_type": "code",
   "execution_count": 423,
   "metadata": {},
   "outputs": [
    {
     "name": "stdout",
     "output_type": "stream",
     "text": [
      "3 0.8\n",
      "-2 -2\n",
      "3 1.75\n",
      "2 4.95\n",
      "3 1.55\n",
      "-2 -2\n",
      "-2 -2\n",
      "3 1.55\n",
      "-2 -2\n",
      "-2 -2\n",
      "2 4.85\n",
      "-2 -2\n",
      "-2 -2\n"
     ]
    }
   ],
   "source": [
    "for i in range(tree.n_nodes_):\n",
    "    print(tree.feature[i], tree.threshold[i])"
   ]
  },
  {
   "cell_type": "code",
   "execution_count": 462,
   "metadata": {},
   "outputs": [
    {
     "data": {
      "text/plain": [
       "1.0"
      ]
     },
     "execution_count": 462,
     "metadata": {},
     "output_type": "execute_result"
    }
   ],
   "source": [
    "np.mean(tree.predict(X)==y)"
   ]
  },
  {
   "cell_type": "code",
   "execution_count": 433,
   "metadata": {},
   "outputs": [
    {
     "data": {
      "text/plain": [
       "array([[[50., 50., 50.]],\n",
       "\n",
       "       [[50.,  0.,  0.]],\n",
       "\n",
       "       [[ 0., 50., 50.]],\n",
       "\n",
       "       [[ 0., 49.,  5.]],\n",
       "\n",
       "       [[ 0., 47.,  1.]],\n",
       "\n",
       "       [[ 0., 47.,  0.]],\n",
       "\n",
       "       [[ 0.,  0.,  1.]],\n",
       "\n",
       "       [[ 0.,  2.,  4.]],\n",
       "\n",
       "       [[ 0.,  0.,  3.]],\n",
       "\n",
       "       [[ 0.,  2.,  1.]],\n",
       "\n",
       "       [[ 0.,  2.,  0.]],\n",
       "\n",
       "       [[ 0.,  0.,  1.]],\n",
       "\n",
       "       [[ 0.,  1., 45.]],\n",
       "\n",
       "       [[ 0.,  1.,  2.]],\n",
       "\n",
       "       [[ 0.,  0.,  2.]],\n",
       "\n",
       "       [[ 0.,  1.,  0.]],\n",
       "\n",
       "       [[ 0.,  0., 43.]]])"
      ]
     },
     "execution_count": 433,
     "metadata": {},
     "output_type": "execute_result"
    }
   ],
   "source": [
    "sktree.tree_.value"
   ]
  },
  {
   "cell_type": "code",
   "execution_count": 425,
   "metadata": {},
   "outputs": [
    {
     "data": {
      "text/plain": [
       "1.0"
      ]
     },
     "execution_count": 425,
     "metadata": {},
     "output_type": "execute_result"
    }
   ],
   "source": [
    "np.mean(tree.predict(iris.data)==iris.target)"
   ]
  },
  {
   "cell_type": "code",
   "execution_count": 427,
   "metadata": {},
   "outputs": [
    {
     "data": {
      "text/plain": [
       "DecisionTreeClassifier(class_weight=None, criterion='gini', max_depth=None,\n",
       "                       max_features=None, max_leaf_nodes=None,\n",
       "                       min_impurity_decrease=0.0, min_impurity_split=None,\n",
       "                       min_samples_leaf=1, min_samples_split=2,\n",
       "                       min_weight_fraction_leaf=0.0, presort=False,\n",
       "                       random_state=None, splitter='best')"
      ]
     },
     "execution_count": 427,
     "metadata": {},
     "output_type": "execute_result"
    }
   ],
   "source": [
    "sktree = DecisionTreeClassifier()\n",
    "sktree.fit(iris.data, iris.target)"
   ]
  },
  {
   "cell_type": "code",
   "execution_count": 444,
   "metadata": {},
   "outputs": [
    {
     "name": "stdout",
     "output_type": "stream",
     "text": [
      "3 0.800000011920929\n",
      "-2 -2.0\n",
      "3 1.75\n",
      "2 4.950000047683716\n",
      "3 1.6500000357627869\n",
      "-2 -2.0\n",
      "-2 -2.0\n",
      "3 1.550000011920929\n",
      "-2 -2.0\n",
      "0 6.949999809265137\n",
      "-2 -2.0\n",
      "-2 -2.0\n",
      "2 4.8500001430511475\n",
      "1 3.100000023841858\n",
      "-2 -2.0\n",
      "-2 -2.0\n",
      "-2 -2.0\n"
     ]
    }
   ],
   "source": [
    "for i in range(sktree.tree_.node_count):\n",
    "    print(sktree.tree_.feature[i], sktree.tree_.threshold[i])"
   ]
  },
  {
   "cell_type": "code",
   "execution_count": 416,
   "metadata": {},
   "outputs": [
    {
     "data": {
      "text/plain": [
       "array([1.5, 2.5])"
      ]
     },
     "execution_count": 416,
     "metadata": {},
     "output_type": "execute_result"
    }
   ],
   "source": [
    "values = np.array([1, 2, 3])\n",
    "((values + np.roll(values, 1))/2)[1:]"
   ]
  },
  {
   "cell_type": "code",
   "execution_count": 379,
   "metadata": {},
   "outputs": [
    {
     "data": {
      "text/plain": [
       "array([[[ 10.,  53., 681., 638., 199.,  18.]],\n",
       "\n",
       "       [[  7.,  29., 519., 260.,  25.,   2.]],\n",
       "\n",
       "       [[  4.,  19., 262.,  66.,   2.,   0.]],\n",
       "\n",
       "       ...,\n",
       "\n",
       "       [[  0.,   0.,   0.,   3.,   0.,   3.]],\n",
       "\n",
       "       [[  0.,   0.,   0.,   3.,   0.,   0.]],\n",
       "\n",
       "       [[  0.,   0.,   0.,   0.,   0.,   3.]]])"
      ]
     },
     "execution_count": 379,
     "metadata": {},
     "output_type": "execute_result"
    }
   ],
   "source": [
    "sktree.tree_.value"
   ]
  },
  {
   "cell_type": "code",
   "execution_count": 370,
   "metadata": {},
   "outputs": [
    {
     "data": {
      "text/plain": [
       "0.8986866791744841"
      ]
     },
     "execution_count": 370,
     "metadata": {},
     "output_type": "execute_result"
    }
   ],
   "source": [
    "np.mean(tree.predict(X) == y)"
   ]
  },
  {
   "cell_type": "code",
   "execution_count": 364,
   "metadata": {
    "scrolled": true
   },
   "outputs": [
    {
     "data": {
      "text/plain": [
       "array([[ 10.,  53., 681., 638., 199.,  18.],\n",
       "       [  7.,  34., 575., 328.,  37.,   2.],\n",
       "       [  3.,  19., 235.,  62.,   1.,   0.],\n",
       "       ...,\n",
       "       [  0.,   0.,   2.,   3.,   0.,   0.],\n",
       "       [  0.,   0.,   0.,   3.,   0.,   0.],\n",
       "       [  0.,   0.,   2.,   0.,   0.,   0.]])"
      ]
     },
     "execution_count": 364,
     "metadata": {},
     "output_type": "execute_result"
    }
   ],
   "source": [
    "tree.value"
   ]
  },
  {
   "cell_type": "code",
   "execution_count": 361,
   "metadata": {},
   "outputs": [
    {
     "data": {
      "text/plain": [
       "array([2., 2., 2., ..., 3., 2., 3.])"
      ]
     },
     "execution_count": 361,
     "metadata": {},
     "output_type": "execute_result"
    }
   ],
   "source": [
    "y"
   ]
  },
  {
   "cell_type": "code",
   "execution_count": 358,
   "metadata": {},
   "outputs": [
    {
     "data": {
      "text/plain": [
       "(1599, 11)"
      ]
     },
     "execution_count": 358,
     "metadata": {},
     "output_type": "execute_result"
    }
   ],
   "source": [
    "X[:, :].shape"
   ]
  },
  {
   "cell_type": "code",
   "execution_count": 283,
   "metadata": {},
   "outputs": [],
   "source": [
    "a, b = np.unique([1, 1, 1, 1, 2, 2, 3, 4, 4, 4, 4, 4, 4, 4, 4, 4], return_counts=True)"
   ]
  },
  {
   "cell_type": "code",
   "execution_count": 286,
   "metadata": {},
   "outputs": [
    {
     "data": {
      "text/plain": [
       "0.3984375"
      ]
     },
     "execution_count": 286,
     "metadata": {},
     "output_type": "execute_result"
    }
   ],
   "source": [
    "np.sum(np.square(b/np.sum(b)))"
   ]
  },
  {
   "cell_type": "code",
   "execution_count": 264,
   "metadata": {},
   "outputs": [],
   "source": [
    "RF.fit(iris.data, iris.target)"
   ]
  },
  {
   "cell_type": "code",
   "execution_count": 295,
   "metadata": {},
   "outputs": [
    {
     "data": {
      "text/plain": [
       "0.8849280800500313"
      ]
     },
     "execution_count": 295,
     "metadata": {},
     "output_type": "execute_result"
    }
   ],
   "source": [
    "np.mean(tree.predict(X) == y)"
   ]
  },
  {
   "cell_type": "code",
   "execution_count": 186,
   "metadata": {},
   "outputs": [],
   "source": [
    "spn = tree2spn(tree, iris.data, iris.target)"
   ]
  },
  {
   "cell_type": "code",
   "execution_count": 157,
   "metadata": {},
   "outputs": [
    {
     "data": {
      "text/plain": [
       "array([ 1., -2.,  3.,  4., -2.,  6., -2., -2., -2.])"
      ]
     },
     "execution_count": 157,
     "metadata": {},
     "output_type": "execute_result"
    }
   ],
   "source": [
    "tree.children_left"
   ]
  },
  {
   "cell_type": "code",
   "execution_count": 158,
   "metadata": {},
   "outputs": [
    {
     "data": {
      "text/plain": [
       "array([ 2., -2.,  8.,  5., -2.,  7., -2., -2., -2.])"
      ]
     },
     "execution_count": 158,
     "metadata": {},
     "output_type": "execute_result"
    }
   ],
   "source": [
    "tree.children_right"
   ]
  },
  {
   "cell_type": "code",
   "execution_count": 187,
   "metadata": {},
   "outputs": [
    {
     "data": {
      "text/plain": [
       "0.98"
      ]
     },
     "execution_count": 187,
     "metadata": {},
     "output_type": "execute_result"
    }
   ],
   "source": [
    "np.mean(tree.predict(iris.data) == iris.target)"
   ]
  },
  {
   "cell_type": "code",
   "execution_count": 188,
   "metadata": {},
   "outputs": [
    {
     "data": {
      "text/plain": [
       "1.0"
      ]
     },
     "execution_count": 188,
     "metadata": {},
     "output_type": "execute_result"
    }
   ],
   "source": [
    "tree = DecisionTreeClassifier()\n",
    "tree.fit(iris.data, iris.target)\n",
    "np.mean(tree.predict(iris.data) == iris.target)\n",
    "#spn = tree2spn(tree, iris.data, iris.target)"
   ]
  },
  {
   "cell_type": "code",
   "execution_count": 50,
   "metadata": {},
   "outputs": [
    {
     "data": {
      "text/plain": [
       "(150,)"
      ]
     },
     "execution_count": 50,
     "metadata": {},
     "output_type": "execute_result"
    }
   ],
   "source": [
    "left.shape"
   ]
  },
  {
   "cell_type": "code",
   "execution_count": 5,
   "metadata": {},
   "outputs": [
    {
     "name": "stdout",
     "output_type": "stream",
     "text": [
      " 0 S s:  [0, 1, 2, 3, 4]  w:  [0.33552632 0.66447368]  n:  151 4690910\n",
      "  1 P s:  [0, 1, 2, 3, 4]  n:  51 9024279\n",
      "   2 L s:  [2] leq value:  2.449999988079071  n:  51 9968185\n",
      "   2 P s:  [0, 1, 2, 3, 4]  n:  51 2424872\n",
      "    3 G s:  [0]  n:  51 347081\n",
      "    3 G s:  [1]  n:  51 5047867\n",
      "    3 G s:  [2]  n:  51 4690348\n",
      "    3 G s:  [3]  n:  51 2873827\n",
      "    3 S s:  [4]  w:  [0.92857143 0.03571429 0.03571429]  n:  51 8392112\n",
      "     4 L s:  [4] eq value:  0.0  n:  52 8442205\n",
      "     4 L s:  [4] eq value:  1.0  n:  2 9419671\n",
      "     4 L s:  [4] eq value:  2.0  n:  2 230303\n",
      "  1 P s:  [0, 1, 2, 3, 4]  n:  101 8098566\n",
      "   2 L s:  [2] g value:  2.449999988079071  n:  101 882936\n",
      "   2 S s:  [0, 1, 2, 3, 4]  w:  [0.53921569 0.46078431]  n:  101 221386\n",
      "    3 P s:  [0, 1, 2, 3, 4]  n:  55 7215363\n",
      "     4 L s:  [3] leq value:  1.75  n:  55 1972496\n",
      "     4 S s:  [0, 1, 2, 3, 4]  w:  [0.875 0.125]  n:  55 1892854\n",
      "      5 P s:  [0, 1, 2, 3, 4]  n:  49 4035176\n",
      "       6 L s:  [2] leq value:  4.950000047683716  n:  49 4361852\n",
      "       6 S s:  [0, 1, 2, 3, 4]  w:  [0.96 0.04]  n:  49 2824034\n",
      "        7 P s:  [0, 1, 2, 3, 4]  n:  48 6179075\n",
      "         8 L s:  [3] leq value:  1.6500000357627869  n:  48 6694977\n",
      "         8 P s:  [0, 1, 2, 3, 4]  n:  48 2137355\n",
      "          9 G s:  [0]  n:  48 4876993\n",
      "          9 G s:  [1]  n:  48 9497666\n",
      "          9 G s:  [2]  n:  48 4403207\n",
      "          9 G s:  [3]  n:  48 4051579\n",
      "          9 S s:  [4]  w:  [0.03773585 0.9245283  0.03773585]  n:  48 7175376\n",
      "           10 L s:  [4] eq value:  0.0  n:  2 8286072\n",
      "           10 L s:  [4] eq value:  1.0  n:  49 2840038\n",
      "           10 L s:  [4] eq value:  2.0  n:  2 9903728\n",
      "        7 P s:  [0, 1, 2, 3, 4]  n:  2 3339847\n",
      "         8 L s:  [3] g value:  1.6500000357627869  n:  2 736084\n",
      "         8 P s:  [0, 1, 2, 3, 4]  n:  2 864965\n",
      "          9 G s:  [0]  n:  2 8655877\n",
      "          9 G s:  [1]  n:  2 9331471\n",
      "          9 G s:  [2]  n:  2 1958488\n",
      "          9 G s:  [3]  n:  2 4246712\n",
      "          9 S s:  [4]  w:  [0.28571429 0.28571429 0.42857143]  n:  2 5933990\n",
      "           10 L s:  [4] eq value:  0.0  n:  2 9226219\n",
      "           10 L s:  [4] eq value:  1.0  n:  2 7138103\n",
      "           10 L s:  [4] eq value:  2.0  n:  3 8603706\n",
      "      5 P s:  [0, 1, 2, 3, 4]  n:  7 7444750\n",
      "       6 L s:  [2] g value:  4.950000047683716  n:  7 3178699\n",
      "       6 S s:  [0, 1, 2, 3, 4]  w:  [0.5 0.5]  n:  7 2058205\n",
      "        7 P s:  [0, 1, 2, 3, 4]  n:  4 6410529\n",
      "         8 L s:  [3] leq value:  1.550000011920929  n:  4 6042412\n",
      "         8 P s:  [0, 1, 2, 3, 4]  n:  4 5507409\n",
      "          9 G s:  [0]  n:  4 8205735\n",
      "          9 G s:  [1]  n:  4 518830\n",
      "          9 G s:  [2]  n:  4 2785779\n",
      "          9 G s:  [3]  n:  4 4309537\n",
      "          9 S s:  [4]  w:  [0.22222222 0.22222222 0.55555556]  n:  4 9924643\n",
      "           10 L s:  [4] eq value:  0.0  n:  2 3927549\n",
      "           10 L s:  [4] eq value:  1.0  n:  2 7745140\n",
      "           10 L s:  [4] eq value:  2.0  n:  5 3022248\n",
      "        7 P s:  [0, 1, 2, 3, 4]  n:  4 7979734\n",
      "         8 L s:  [3] g value:  1.550000011920929  n:  4 9784425\n",
      "         8 S s:  [0, 1, 2, 3, 4]  w:  [0.6 0.4]  n:  4 227447\n",
      "          9 P s:  [0, 1, 2, 3, 4]  n:  3 2626214\n",
      "           10 L s:  [2] leq value:  5.450000047683716  n:  3 2728209\n",
      "           10 P s:  [0, 1, 2, 3, 4]  n:  3 9410065\n",
      "            11 G s:  [0]  n:  3 3123186\n",
      "            11 G s:  [1]  n:  3 9766455\n",
      "            11 G s:  [2]  n:  3 6487531\n",
      "            11 G s:  [3]  n:  3 504124\n",
      "            11 S s:  [4]  w:  [0.25 0.5  0.25]  n:  3 9925406\n",
      "             12 L s:  [4] eq value:  0.0  n:  2 4014253\n",
      "             12 L s:  [4] eq value:  1.0  n:  4 1204865\n",
      "             12 L s:  [4] eq value:  2.0  n:  2 7901211\n",
      "          9 P s:  [0, 1, 2, 3, 4]  n:  2 7539457\n",
      "           10 L s:  [2] g value:  5.450000047683716  n:  2 1598973\n",
      "           10 P s:  [0, 1, 2, 3, 4]  n:  2 2387587\n",
      "            11 G s:  [0]  n:  2 4827471\n",
      "            11 G s:  [1]  n:  2 8563949\n",
      "            11 G s:  [2]  n:  2 3648613\n",
      "            11 G s:  [3]  n:  2 8759555\n",
      "            11 S s:  [4]  w:  [0.28571429 0.28571429 0.42857143]  n:  2 4346422\n",
      "             12 L s:  [4] eq value:  0.0  n:  2 7231671\n",
      "             12 L s:  [4] eq value:  1.0  n:  2 9598621\n",
      "             12 L s:  [4] eq value:  2.0  n:  3 6459520\n",
      "    3 P s:  [0, 1, 2, 3, 4]  n:  47 5503015\n",
      "     4 L s:  [3] g value:  1.75  n:  47 8429850\n",
      "     4 S s:  [0, 1, 2, 3, 4]  w:  [0.08333333 0.91666667]  n:  47 6764994\n",
      "      5 P s:  [0, 1, 2, 3, 4]  n:  4 1792247\n",
      "       6 L s:  [2] leq value:  4.8500001430511475  n:  4 3360395\n",
      "       6 S s:  [0, 1, 2, 3, 4]  w:  [0.6 0.4]  n:  4 1534694\n",
      "        7 P s:  [0, 1, 2, 3, 4]  n:  3 185098\n",
      "         8 L s:  [1] leq value:  3.100000023841858  n:  3 4835464\n",
      "         8 P s:  [0, 1, 2, 3, 4]  n:  3 2735064\n",
      "          9 G s:  [0]  n:  3 7169196\n",
      "          9 G s:  [1]  n:  3 8308907\n",
      "          9 G s:  [2]  n:  3 8418638\n",
      "          9 G s:  [3]  n:  3 443094\n",
      "          9 S s:  [4]  w:  [0.25 0.25 0.5 ]  n:  3 1465806\n",
      "           10 L s:  [4] eq value:  0.0  n:  2 8773770\n",
      "           10 L s:  [4] eq value:  1.0  n:  2 8555904\n",
      "           10 L s:  [4] eq value:  2.0  n:  4 5760739\n",
      "        7 P s:  [0, 1, 2, 3, 4]  n:  2 5778949\n",
      "         8 L s:  [1] g value:  3.100000023841858  n:  2 2470216\n",
      "         8 P s:  [0, 1, 2, 3, 4]  n:  2 7054845\n",
      "          9 G s:  [0]  n:  2 2749599\n",
      "          9 G s:  [1]  n:  2 4703621\n",
      "          9 G s:  [2]  n:  2 9164918\n",
      "          9 G s:  [3]  n:  2 937346\n",
      "          9 S s:  [4]  w:  [0.28571429 0.42857143 0.28571429]  n:  2 6442656\n",
      "           10 L s:  [4] eq value:  0.0  n:  2 6695897\n",
      "           10 L s:  [4] eq value:  1.0  n:  3 4270528\n",
      "           10 L s:  [4] eq value:  2.0  n:  2 930130\n",
      "      5 P s:  [0, 1, 2, 3, 4]  n:  44 5397756\n",
      "       6 L s:  [2] g value:  4.8500001430511475  n:  44 5413517\n",
      "       6 P s:  [0, 1, 2, 3, 4]  n:  44 3341521\n",
      "        7 G s:  [0]  n:  44 6654366\n",
      "        7 G s:  [1]  n:  44 2278941\n",
      "        7 G s:  [2]  n:  44 8165220\n",
      "        7 G s:  [3]  n:  44 1147007\n",
      "        7 S s:  [4]  w:  [0.04081633 0.04081633 0.91836735]  n:  44 6508256\n",
      "         8 L s:  [4] eq value:  0.0  n:  2 7313430\n",
      "         8 L s:  [4] eq value:  1.0  n:  2 4423767\n",
      "         8 L s:  [4] eq value:  2.0  n:  45 5706120\n"
     ]
    }
   ],
   "source": [
    "print_spn(spn.root) # (Depth) (Node type) s: (Scope) w: (Weights) n:(Number of datapoints) (Node ID)"
   ]
  },
  {
   "cell_type": "code",
   "execution_count": 6,
   "metadata": {},
   "outputs": [
    {
     "data": {
      "text/plain": [
       "array([ True,  True,  True,  True,  True,  True,  True,  True,  True,\n",
       "        True,  True,  True,  True,  True,  True,  True,  True,  True,\n",
       "        True,  True,  True,  True,  True,  True,  True,  True,  True,\n",
       "        True,  True,  True,  True,  True,  True,  True,  True,  True,\n",
       "        True,  True,  True,  True,  True,  True,  True,  True,  True,\n",
       "        True,  True,  True,  True,  True,  True,  True,  True,  True,\n",
       "        True,  True,  True,  True,  True,  True,  True,  True,  True,\n",
       "        True,  True,  True,  True,  True,  True,  True,  True,  True,\n",
       "        True,  True,  True,  True,  True,  True,  True,  True,  True,\n",
       "        True,  True,  True,  True,  True,  True,  True,  True,  True,\n",
       "        True,  True,  True,  True,  True,  True,  True,  True,  True,\n",
       "        True,  True,  True,  True,  True,  True,  True,  True,  True,\n",
       "        True,  True,  True,  True,  True,  True,  True,  True,  True,\n",
       "        True,  True,  True,  True,  True,  True,  True,  True,  True,\n",
       "        True,  True,  True,  True,  True,  True,  True,  True,  True,\n",
       "        True,  True,  True,  True,  True,  True,  True,  True,  True,\n",
       "        True,  True,  True,  True,  True,  True])"
      ]
     },
     "execution_count": 6,
     "metadata": {},
     "output_type": "execute_result"
    }
   ],
   "source": [
    "# Check if they are equivalent\n",
    "# spn.classify returns the classes at position 0 and the log-probabilities at position 1\n",
    "# classcol is needed to retrieve the number of classes internally (bad design, working on it)\n",
    "tree.predict(iris.data) == spn.classify(iris.data, classcol=4)[0]"
   ]
  },
  {
   "cell_type": "markdown",
   "metadata": {},
   "source": [
    "## Playing with Custom Random Forest -> SPN Code"
   ]
  },
  {
   "cell_type": "code",
   "execution_count": 25,
   "metadata": {},
   "outputs": [],
   "source": [
    "sktree = SKRandomForest(n_estimators=10)\n",
    "sktree.fit(iris.data, iris.target)\n",
    "spn = sktree.tospn()\n",
    "rf = sktree.torf()"
   ]
  },
  {
   "cell_type": "code",
   "execution_count": 26,
   "metadata": {},
   "outputs": [
    {
     "data": {
      "text/plain": [
       "array([0, 0, 0, 0, 0, 0, 0, 0, 0, 0, 0, 0, 0, 0, 0, 0, 0, 0, 0, 0, 0, 0,\n",
       "       0, 0, 0, 0, 0, 0, 0, 0, 0, 0, 0, 0, 0, 0, 0, 0, 0, 0, 0, 0, 0, 0,\n",
       "       0, 0, 0, 0, 0, 0, 1, 1, 1, 1, 1, 1, 1, 1, 1, 1, 1, 1, 1, 1, 1, 1,\n",
       "       1, 1, 1, 1, 1, 1, 1, 1, 1, 1, 1, 1, 1, 1, 1, 1, 1, 1, 1, 1, 1, 1,\n",
       "       1, 1, 1, 1, 1, 1, 1, 1, 1, 1, 1, 1, 2, 2, 2, 2, 2, 2, 2, 2, 2, 2,\n",
       "       2, 2, 2, 2, 2, 2, 2, 2, 2, 2, 2, 2, 2, 2, 2, 2, 2, 2, 2, 2, 2, 2,\n",
       "       2, 2, 2, 2, 2, 2, 2, 2, 2, 2, 2, 2, 2, 2, 2, 2, 2, 2])"
      ]
     },
     "execution_count": 26,
     "metadata": {},
     "output_type": "execute_result"
    }
   ],
   "source": [
    "rf.predict(iris.data)"
   ]
  },
  {
   "cell_type": "code",
   "execution_count": 8,
   "metadata": {},
   "outputs": [
    {
     "data": {
      "text/plain": [
       "array([[1. , 0. , 0. ],\n",
       "       [1. , 0. , 0. ],\n",
       "       [1. , 0. , 0. ],\n",
       "       [1. , 0. , 0. ],\n",
       "       [1. , 0. , 0. ],\n",
       "       [1. , 0. , 0. ],\n",
       "       [1. , 0. , 0. ],\n",
       "       [1. , 0. , 0. ],\n",
       "       [1. , 0. , 0. ],\n",
       "       [1. , 0. , 0. ],\n",
       "       [1. , 0. , 0. ],\n",
       "       [1. , 0. , 0. ],\n",
       "       [1. , 0. , 0. ],\n",
       "       [1. , 0. , 0. ],\n",
       "       [1. , 0. , 0. ],\n",
       "       [1. , 0. , 0. ],\n",
       "       [1. , 0. , 0. ],\n",
       "       [1. , 0. , 0. ],\n",
       "       [1. , 0. , 0. ],\n",
       "       [1. , 0. , 0. ],\n",
       "       [1. , 0. , 0. ],\n",
       "       [1. , 0. , 0. ],\n",
       "       [1. , 0. , 0. ],\n",
       "       [1. , 0. , 0. ],\n",
       "       [1. , 0. , 0. ],\n",
       "       [1. , 0. , 0. ],\n",
       "       [1. , 0. , 0. ],\n",
       "       [1. , 0. , 0. ],\n",
       "       [1. , 0. , 0. ],\n",
       "       [1. , 0. , 0. ],\n",
       "       [1. , 0. , 0. ],\n",
       "       [1. , 0. , 0. ],\n",
       "       [1. , 0. , 0. ],\n",
       "       [1. , 0. , 0. ],\n",
       "       [1. , 0. , 0. ],\n",
       "       [1. , 0. , 0. ],\n",
       "       [1. , 0. , 0. ],\n",
       "       [1. , 0. , 0. ],\n",
       "       [1. , 0. , 0. ],\n",
       "       [1. , 0. , 0. ],\n",
       "       [1. , 0. , 0. ],\n",
       "       [1. , 0. , 0. ],\n",
       "       [1. , 0. , 0. ],\n",
       "       [1. , 0. , 0. ],\n",
       "       [1. , 0. , 0. ],\n",
       "       [1. , 0. , 0. ],\n",
       "       [1. , 0. , 0. ],\n",
       "       [1. , 0. , 0. ],\n",
       "       [1. , 0. , 0. ],\n",
       "       [1. , 0. , 0. ],\n",
       "       [0. , 1. , 0. ],\n",
       "       [0. , 1. , 0. ],\n",
       "       [0. , 0.8, 0.2],\n",
       "       [0. , 1. , 0. ],\n",
       "       [0. , 0.9, 0.1],\n",
       "       [0. , 1. , 0. ],\n",
       "       [0. , 1. , 0. ],\n",
       "       [0. , 0.9, 0.1],\n",
       "       [0. , 1. , 0. ],\n",
       "       [0. , 1. , 0. ],\n",
       "       [0. , 1. , 0. ],\n",
       "       [0. , 1. , 0. ],\n",
       "       [0. , 1. , 0. ],\n",
       "       [0. , 1. , 0. ],\n",
       "       [0. , 1. , 0. ],\n",
       "       [0. , 1. , 0. ],\n",
       "       [0. , 1. , 0. ],\n",
       "       [0. , 1. , 0. ],\n",
       "       [0. , 0.9, 0.1],\n",
       "       [0. , 1. , 0. ],\n",
       "       [0. , 0.7, 0.3],\n",
       "       [0. , 1. , 0. ],\n",
       "       [0. , 0.8, 0.2],\n",
       "       [0. , 1. , 0. ],\n",
       "       [0. , 1. , 0. ],\n",
       "       [0. , 1. , 0. ],\n",
       "       [0. , 0.9, 0.1],\n",
       "       [0. , 0.6, 0.4],\n",
       "       [0. , 1. , 0. ],\n",
       "       [0. , 1. , 0. ],\n",
       "       [0. , 1. , 0. ],\n",
       "       [0. , 1. , 0. ],\n",
       "       [0. , 1. , 0. ],\n",
       "       [0. , 0.6, 0.4],\n",
       "       [0. , 1. , 0. ],\n",
       "       [0. , 1. , 0. ],\n",
       "       [0. , 1. , 0. ],\n",
       "       [0. , 0.9, 0.1],\n",
       "       [0. , 1. , 0. ],\n",
       "       [0. , 1. , 0. ],\n",
       "       [0. , 1. , 0. ],\n",
       "       [0. , 1. , 0. ],\n",
       "       [0. , 1. , 0. ],\n",
       "       [0. , 1. , 0. ],\n",
       "       [0. , 1. , 0. ],\n",
       "       [0. , 1. , 0. ],\n",
       "       [0. , 1. , 0. ],\n",
       "       [0. , 1. , 0. ],\n",
       "       [0. , 1. , 0. ],\n",
       "       [0. , 1. , 0. ],\n",
       "       [0. , 0. , 1. ],\n",
       "       [0. , 0. , 1. ],\n",
       "       [0. , 0. , 1. ],\n",
       "       [0. , 0. , 1. ],\n",
       "       [0. , 0. , 1. ],\n",
       "       [0. , 0. , 1. ],\n",
       "       [0. , 0.2, 0.8],\n",
       "       [0. , 0. , 1. ],\n",
       "       [0. , 0. , 1. ],\n",
       "       [0. , 0. , 1. ],\n",
       "       [0. , 0. , 1. ],\n",
       "       [0. , 0. , 1. ],\n",
       "       [0. , 0. , 1. ],\n",
       "       [0. , 0. , 1. ],\n",
       "       [0. , 0. , 1. ],\n",
       "       [0. , 0. , 1. ],\n",
       "       [0. , 0. , 1. ],\n",
       "       [0. , 0. , 1. ],\n",
       "       [0. , 0. , 1. ],\n",
       "       [0. , 0.3, 0.7],\n",
       "       [0. , 0. , 1. ],\n",
       "       [0. , 0.1, 0.9],\n",
       "       [0. , 0. , 1. ],\n",
       "       [0. , 0. , 1. ],\n",
       "       [0. , 0. , 1. ],\n",
       "       [0. , 0. , 1. ],\n",
       "       [0. , 0.1, 0.9],\n",
       "       [0. , 0. , 1. ],\n",
       "       [0. , 0. , 1. ],\n",
       "       [0. , 0.1, 0.9],\n",
       "       [0. , 0. , 1. ],\n",
       "       [0. , 0. , 1. ],\n",
       "       [0. , 0. , 1. ],\n",
       "       [0. , 0.2, 0.8],\n",
       "       [0. , 0.3, 0.7],\n",
       "       [0. , 0. , 1. ],\n",
       "       [0. , 0. , 1. ],\n",
       "       [0. , 0. , 1. ],\n",
       "       [0. , 0.2, 0.8],\n",
       "       [0. , 0. , 1. ],\n",
       "       [0. , 0. , 1. ],\n",
       "       [0. , 0. , 1. ],\n",
       "       [0. , 0. , 1. ],\n",
       "       [0. , 0. , 1. ],\n",
       "       [0. , 0. , 1. ],\n",
       "       [0. , 0. , 1. ],\n",
       "       [0. , 0. , 1. ],\n",
       "       [0. , 0. , 1. ],\n",
       "       [0. , 0.1, 0.9],\n",
       "       [0. , 0. , 1. ]])"
      ]
     },
     "execution_count": 8,
     "metadata": {},
     "output_type": "execute_result"
    }
   ],
   "source": [
    "sktree.predict(iris.data, vote=False) # Returns probabilities"
   ]
  },
  {
   "cell_type": "code",
   "execution_count": 9,
   "metadata": {},
   "outputs": [
    {
     "data": {
      "text/plain": [
       "array([[2.90181711e+00, 1.08051054e-01, 1.08051054e-01],\n",
       "       [1.41976400e+00, 5.14103543e-02, 5.14103543e-02],\n",
       "       [1.15055612e+00, 4.14508709e-02, 4.14508709e-02],\n",
       "       [1.03446931e+00, 3.72884200e-02, 3.72884200e-02],\n",
       "       [2.70597500e+00, 1.00716527e-01, 1.00716527e-01],\n",
       "       [1.12511194e-01, 4.26768517e-03, 4.26768517e-03],\n",
       "       [1.45750920e+00, 5.27770328e-02, 5.27770328e-02],\n",
       "       [3.05318406e+00, 1.13477398e-01, 1.13477398e-01],\n",
       "       [2.68780258e-01, 9.50510980e-03, 9.50510980e-03],\n",
       "       [8.08917412e-01, 2.91256117e-02, 2.91256117e-02],\n",
       "       [1.38780833e+00, 5.28240835e-02, 5.28240835e-02],\n",
       "       [1.75727467e+00, 6.49650209e-02, 6.49650209e-02],\n",
       "       [5.48036906e-01, 1.95006511e-02, 1.95006511e-02],\n",
       "       [1.26078700e-02, 4.35667687e-04, 4.35667687e-04],\n",
       "       [2.96050780e-02, 1.11698353e-03, 1.11698353e-03],\n",
       "       [1.06108045e-02, 4.09173223e-04, 4.09173223e-04],\n",
       "       [2.06612605e-01, 7.66789763e-03, 7.66789763e-03],\n",
       "       [2.79313056e+00, 1.03865524e-01, 1.03865524e-01],\n",
       "       [1.16981185e-01, 4.53730211e-03, 4.53730211e-03],\n",
       "       [1.77469231e+00, 6.71004847e-02, 6.71004847e-02],\n",
       "       [6.16939201e-01, 2.34302863e-02, 2.34302863e-02],\n",
       "       [8.91185415e-01, 3.29668937e-02, 3.29668937e-02],\n",
       "       [3.67915351e-02, 1.31861621e-03, 1.31861621e-03],\n",
       "       [7.51386989e-02, 2.65404638e-03, 2.65404638e-03],\n",
       "       [7.79181525e-02, 2.89618614e-03, 2.89618614e-03],\n",
       "       [1.04077719e+00, 3.81301486e-02, 3.81301486e-02],\n",
       "       [8.36411598e-01, 3.05360799e-02, 3.05360799e-02],\n",
       "       [2.69559820e+00, 1.01312992e-01, 1.01312992e-01],\n",
       "       [2.65401778e+00, 9.88042785e-02, 9.88042785e-02],\n",
       "       [1.16219375e+00, 4.23784253e-02, 4.23784253e-02],\n",
       "       [1.15937289e+00, 4.22907265e-02, 4.22907265e-02],\n",
       "       [6.80512636e-01, 2.51665785e-02, 2.51665785e-02],\n",
       "       [2.14047708e-01, 8.06190136e-03, 8.06190136e-03],\n",
       "       [1.55797393e-01, 5.98458512e-03, 5.98458512e-03],\n",
       "       [1.89688461e+00, 6.93187851e-02, 6.93187851e-02],\n",
       "       [7.89864508e-01, 2.86195242e-02, 2.86195242e-02],\n",
       "       [8.17917279e-01, 3.05709605e-02, 3.05709605e-02],\n",
       "       [1.06562871e+00, 3.89223449e-02, 3.89223449e-02],\n",
       "       [2.60069324e-01, 9.19066070e-03, 9.19066070e-03],\n",
       "       [2.99425873e+00, 1.11727233e-01, 1.11727233e-01],\n",
       "       [1.91864608e+00, 7.05802341e-02, 7.05802341e-02],\n",
       "       [1.05848818e-02, 3.63071199e-04, 3.63071199e-04],\n",
       "       [4.08314511e-01, 1.45317145e-02, 1.45317145e-02],\n",
       "       [1.80853105e-02, 6.25010026e-04, 6.25010026e-04],\n",
       "       [2.19522643e-02, 8.18951775e-04, 8.18951775e-04],\n",
       "       [1.21219412e+00, 4.35520612e-02, 4.35520612e-02],\n",
       "       [1.29649803e+00, 4.92766005e-02, 4.92766005e-02],\n",
       "       [1.27054423e+00, 4.58168650e-02, 4.58168650e-02],\n",
       "       [1.77875810e+00, 6.75183827e-02, 6.75183827e-02],\n",
       "       [2.81570068e+00, 1.03693844e-01, 1.03693844e-01],\n",
       "       [8.20604543e-03, 5.47660229e-02, 8.20604543e-03],\n",
       "       [1.83264234e-02, 1.62397559e-01, 1.83264234e-02],\n",
       "       [8.22482398e-03, 5.55998861e-02, 9.76426259e-03],\n",
       "       [7.62406909e-03, 1.41311252e-01, 7.62406909e-03],\n",
       "       [1.99217057e-02, 2.49265025e-01, 1.99217057e-02],\n",
       "       [1.48892450e-02, 3.49222022e-01, 1.48892450e-02],\n",
       "       [2.49053161e-03, 2.74036503e-02, 2.49053161e-03],\n",
       "       [6.90978567e+02, 1.03647380e+03, 6.90978567e+02],\n",
       "       [2.44378401e-02, 3.01325355e-01, 2.44378401e-02],\n",
       "       [5.44819238e-03, 1.24233065e-01, 5.44819238e-03],\n",
       "       [7.67618561e-02, 2.32807756e-01, 7.67618561e-02],\n",
       "       [1.66865080e-02, 2.35775579e-01, 1.66865080e-02],\n",
       "       [5.07121703e-03, 3.28932194e-02, 5.07121703e-03],\n",
       "       [1.74351841e-02, 2.80722677e-01, 1.74351841e-02],\n",
       "       [9.23143597e-03, 1.86142194e-01, 9.23143597e-03],\n",
       "       [3.19082326e-02, 2.63820820e-01, 3.19082326e-02],\n",
       "       [1.02292797e-02, 1.56377545e-01, 1.02292797e-02],\n",
       "       [7.82073768e-03, 1.43880940e-01, 7.82073768e-03],\n",
       "       [5.96642230e+02, 8.94986694e+02, 5.96642431e+02],\n",
       "       [1.70193119e-02, 2.86977708e-01, 1.70193119e-02],\n",
       "       [4.84056652e+03, 8.12228761e+03, 4.84057450e+03],\n",
       "       [1.65028267e-02, 3.85103620e-01, 1.65028267e-02],\n",
       "       [5.95078348e+02, 8.92650661e+02, 5.95079446e+02],\n",
       "       [9.72695931e-03, 2.12703984e-01, 9.72695931e-03],\n",
       "       [1.80690069e-02, 3.48614863e-01, 1.80690069e-02],\n",
       "       [3.52457937e-02, 3.52630073e-01, 3.52457937e-02],\n",
       "       [9.24133580e+02, 1.38630746e+03, 9.24133580e+02],\n",
       "       [3.26455596e+03, 7.64748764e+03, 3.26457544e+03],\n",
       "       [4.07335358e-02, 4.03414669e-01, 4.07335358e-02],\n",
       "       [5.65621304e-03, 9.10989436e-02, 5.65621304e-03],\n",
       "       [1.31739746e-02, 2.13749747e-01, 1.31739746e-02],\n",
       "       [7.11793897e-03, 1.12052571e-01, 7.11793897e-03],\n",
       "       [2.02478462e-02, 3.98216093e-01, 2.02478462e-02],\n",
       "       [3.39264612e+03, 8.44857238e+03, 3.39265317e+03],\n",
       "       [4.09194144e-03, 9.09005262e-02, 4.09194144e-03],\n",
       "       [7.61145834e-03, 5.91057095e-02, 7.61145834e-03],\n",
       "       [3.62881426e-02, 2.58466240e-01, 3.62881426e-02],\n",
       "       [3.53141582e-03, 7.75388345e-02, 3.53141582e-03],\n",
       "       [1.35398889e-02, 3.02215355e-01, 1.35398889e-02],\n",
       "       [1.50383288e-02, 2.92006070e-01, 1.50383288e-02],\n",
       "       [1.21282576e-02, 2.52406725e-01, 1.21282576e-02],\n",
       "       [1.86754205e-02, 2.93742016e-01, 1.86754205e-02],\n",
       "       [1.96537204e-02, 3.86348203e-01, 1.96537204e-02],\n",
       "       [5.18744860e-04, 7.75955354e-03, 5.18744860e-04],\n",
       "       [1.95023156e-02, 4.23832878e-01, 1.95023156e-02],\n",
       "       [1.31212699e-02, 2.87123530e-01, 1.31212699e-02],\n",
       "       [1.82790274e-02, 4.14979482e-01, 1.82790274e-02],\n",
       "       [1.86333589e-02, 4.08528217e-01, 1.86333589e-02],\n",
       "       [4.81096941e-04, 7.47897550e-03, 4.81096941e-04],\n",
       "       [2.09472404e-02, 4.60714235e-01, 2.09472404e-02],\n",
       "       [2.65198794e-03, 2.65198794e-03, 3.16336762e-02],\n",
       "       [9.82192204e-01, 9.82192204e-01, 3.94951114e+00],\n",
       "       [1.06070801e-02, 1.06070801e-02, 2.22377859e-01],\n",
       "       [6.44605416e-03, 6.44605416e-03, 1.40199208e-01],\n",
       "       [1.26601456e-02, 1.26601456e-02, 2.73392575e-01],\n",
       "       [7.55230835e-04, 7.55230835e-04, 1.40990865e-02],\n",
       "       [3.81693236e+03, 3.81693281e+03, 7.44062052e+03],\n",
       "       [1.59167986e-03, 1.59167986e-03, 3.20602187e-02],\n",
       "       [1.42495329e-03, 1.42495329e-03, 3.02137757e-02],\n",
       "       [1.84271086e-04, 1.84271086e-04, 3.67538490e-03],\n",
       "       [6.24279230e-03, 6.24279230e-03, 1.37517862e-01],\n",
       "       [5.49665258e-03, 5.49665258e-03, 1.19205056e-01],\n",
       "       [1.58891067e-02, 1.58891067e-02, 3.43201772e-01],\n",
       "       [3.09496537e-03, 3.09496537e-03, 1.59129576e-02],\n",
       "       [1.17387707e-03, 1.17387707e-03, 1.53672586e-02],\n",
       "       [2.31246847e-02, 2.31246847e-02, 2.27653910e-01],\n",
       "       [7.73758000e-03, 7.73758000e-03, 1.68881055e-01],\n",
       "       [1.12046914e-05, 1.12046914e-05, 2.01087684e-04],\n",
       "       [4.43761174e-05, 4.43761174e-05, 7.81453622e-04],\n",
       "       [1.37774281e+03, 1.37774538e+03, 2.45719393e+03],\n",
       "       [1.82492630e-02, 1.82492630e-02, 2.29571825e-01],\n",
       "       [6.49988488e+02, 6.49988488e+02, 9.75007690e+02],\n",
       "       [2.85618876e-04, 2.85618876e-04, 5.21784894e-03],\n",
       "       [8.27960574e+02, 8.27960574e+02, 1.24219833e+03],\n",
       "       [9.28297454e-03, 9.28297454e-03, 1.93944930e-01],\n",
       "       [2.59124460e-03, 2.59124460e-03, 5.39316591e-02],\n",
       "       [7.60191544e-01, 7.60324048e-01, 1.92626980e+00],\n",
       "       [3.54832010e+00, 3.54832010e+00, 1.05565178e+01],\n",
       "       [1.08503611e-02, 1.08503611e-02, 2.35875827e-01],\n",
       "       [1.44379272e+03, 1.44379272e+03, 3.60949257e+03],\n",
       "       [2.49243436e-03, 2.49243436e-03, 5.03609727e-02],\n",
       "       [1.32525678e-05, 1.32525678e-05, 2.39217839e-04],\n",
       "       [9.32303379e-03, 9.32303379e-03, 2.02534842e-01],\n",
       "       [3.27437004e+03, 3.27437943e+03, 7.12741670e+03],\n",
       "       [8.13494239e+02, 8.13494811e+02, 1.22024900e+03],\n",
       "       [1.22857241e-03, 1.22857241e-03, 2.41410754e-02],\n",
       "       [3.56180859e-03, 3.56180859e-03, 4.78214590e-02],\n",
       "       [6.29142976e-03, 6.29142976e-03, 1.38259749e-01],\n",
       "       [4.54024768e+00, 4.54036811e+00, 1.35172017e+01],\n",
       "       [1.30236855e-02, 1.30236855e-02, 2.80635076e-01],\n",
       "       [6.30826110e-03, 6.30826110e-03, 1.35624963e-01],\n",
       "       [5.31926567e-03, 5.31926567e-03, 1.14267645e-01],\n",
       "       [9.82192204e-01, 9.82192204e-01, 3.94951114e+00],\n",
       "       [1.84161461e-02, 1.84161461e-02, 2.19945046e-01],\n",
       "       [7.49973132e-03, 7.49973132e-03, 7.43802806e-02],\n",
       "       [7.47477314e-03, 7.47477314e-03, 1.62006420e-01],\n",
       "       [9.78202796e-04, 9.78202796e-04, 2.12839284e-02],\n",
       "       [1.06937880e-02, 1.06937880e-02, 2.34370017e-01],\n",
       "       [6.62689039e+02, 6.62689039e+02, 9.94076202e+02],\n",
       "       [5.54423690e+00, 5.54423690e+00, 1.76445727e+01]])"
      ]
     },
     "execution_count": 9,
     "metadata": {},
     "output_type": "execute_result"
    }
   ],
   "source": [
    "# The spn should return less skewed results as it models the joint\n",
    "spn.probs(iris.data, classcol=4) # Returns probabilities"
   ]
  },
  {
   "cell_type": "markdown",
   "metadata": {},
   "source": [
    "## Analysing a scikit-learn Random Forest"
   ]
  },
  {
   "cell_type": "code",
   "execution_count": 10,
   "metadata": {},
   "outputs": [],
   "source": [
    "# Run cross-validation on a tree\n",
    "def tree_cv(data, n_folds, classcol=None, stratify=True, seed=42):\n",
    "    n, m = data.shape[0], data.shape[1]  # Number of rows and columns\n",
    "    np.random.seed(seed)\n",
    "\n",
    "    if classcol is None:\n",
    "        classcol = m-1\n",
    "        print(\"Taking last column as the class variable.\")\n",
    "\n",
    "    if n/n_folds < 30:\n",
    "        n_folds = np.floor(n/30).astype(int)\n",
    "        print(\"Too many folds for this dataset. Using %d \" % n_folds)\n",
    "\n",
    "    folds = np.zeros(n)\n",
    "    if stratify:\n",
    "        for c in np.unique(data[ :, classcol]):\n",
    "            nn = np.sum(data[ :, classcol] == c)\n",
    "            ind = np.tile(np.arange(n_folds), int(np.ceil(nn/n_folds)))[:nn]\n",
    "            folds[data[:, classcol] == c] = np.random.choice(ind, nn, replace=False)\n",
    "    else:\n",
    "        ind = np.tile(np.arange(n_folds), int(np.ceiling(n/nfolds)))[:n]\n",
    "        folds = np.random.choice(ind, n, replace=False)\n",
    "\n",
    "    y, y_pred = np.array([]), np.array([])\n",
    "    for fold in range(n_folds):\n",
    "        train_data = data[np.where(folds!=fold)[0], :].copy()\n",
    "        test_data = data[np.where(folds==fold)[0], :].copy()\n",
    "        mask = np.delete(np.arange(m), classcol)\n",
    "        X_test = test_data[:, mask]\n",
    "        y_test = test_data[:, classcol]\n",
    "        clf = Tree(classcol)\n",
    "        clf.fit(train_data)\n",
    "        y_pred = np.append(y_pred, clf.classify(X_test))\n",
    "        y = np.append(y, y_test)\n",
    "    return y_pred, y"
   ]
  },
  {
   "cell_type": "code",
   "execution_count": 11,
   "metadata": {},
   "outputs": [],
   "source": [
    "# Run cross-validation on a scikit-learn Random Forest\n",
    "def rf_cv(data, n_folds, classcol=None, stratify=True, seed=42, n_estimators=10, max_depth=None):\n",
    "    n, m = data.shape[0], data.shape[1]  # Number of rows and columns\n",
    "    np.random.seed(seed)\n",
    "\n",
    "    if classcol is None:\n",
    "        classcol = m-1\n",
    "        print(\"Taking last column as the class variable.\")\n",
    "        \n",
    "    if max_depth is None:\n",
    "        max_depth = data.shape[1]-1\n",
    "\n",
    "    if n/n_folds < 30:\n",
    "        n_folds = np.floor(n/30).astype(int)\n",
    "        print(\"Too many folds for this dataset. Using %d \" % n_folds)\n",
    "\n",
    "    folds = np.zeros(n)\n",
    "    if stratify:\n",
    "        for c in np.unique(data[ :, classcol]):\n",
    "            nn = np.sum(data[ :, classcol] == c)\n",
    "            ind = np.tile(np.arange(n_folds), int(np.ceil(nn/n_folds)))[:nn]\n",
    "            folds[data[:, classcol] == c] = np.random.choice(ind, nn, replace=False)\n",
    "    else:\n",
    "        ind = np.tile(np.arange(n_folds), int(np.ceiling(n/nfolds)))[:n]\n",
    "        folds = np.random.choice(ind, n, replace=False)\n",
    "\n",
    "    y, y_pred = np.array([]), np.array([])\n",
    "    for fold in range(n_folds):\n",
    "        train_data = data[np.where(folds!=fold)[0], :]\n",
    "        test_data = data[np.where(folds==fold)[0], :]\n",
    "        mask = np.delete(np.arange(m), classcol)\n",
    "        X_train, X_test = train_data[:, mask], test_data[:, mask]\n",
    "        y_train, y_test = train_data[:, classcol], test_data[:, classcol]\n",
    "        clf = RandomForestClassifier(n_estimators=n_estimators, max_depth=max_depth)\n",
    "        clf.fit(X_train, y_train)\n",
    "        y_pred = np.append(y_pred, clf.predict(X_test).astype(int))\n",
    "        y = np.append(y, y_test)\n",
    "    return y_pred, y"
   ]
  },
  {
   "cell_type": "code",
   "execution_count": 12,
   "metadata": {},
   "outputs": [],
   "source": [
    "# Run Cross-validation on custom Random Forest wrapper\n",
    "def sk_rf_cv(data, n_folds, classcol=None, stratify=True, seed=42, n_estimators=10, max_depth=None):\n",
    "    n, m = data.shape[0], data.shape[1]  # Number of rows and columns\n",
    "    np.random.seed(seed)\n",
    "\n",
    "    if classcol is None:\n",
    "        classcol = m-1\n",
    "        print(\"Taking last column as the class variable.\")\n",
    "        \n",
    "    if max_depth is None:\n",
    "        max_depth = data.shape[1]-1\n",
    "\n",
    "    if n/n_folds < 30:\n",
    "        n_folds = np.floor(n/30).astype(int)\n",
    "        print(\"Too many folds for this dataset. Using %d \" % n_folds)\n",
    "\n",
    "    folds = np.zeros(n)\n",
    "    if stratify:\n",
    "        for c in np.unique(data[ :, classcol]):\n",
    "            nn = np.sum(data[ :, classcol] == c)\n",
    "            ind = np.tile(np.arange(n_folds), int(np.ceil(nn/n_folds)))[:nn]\n",
    "            folds[data[:, classcol] == c] = np.random.choice(ind, nn, replace=False)\n",
    "    else:\n",
    "        ind = np.tile(np.arange(n_folds), int(np.ceiling(n/nfolds)))[:n]\n",
    "        folds = np.random.choice(ind, n, replace=False)\n",
    "\n",
    "    y, y_pred, y_pred_2 = np.array([]), np.array([]), None\n",
    "    for fold in range(n_folds):\n",
    "        train_data = data[np.where(folds!=fold)[0], :]\n",
    "        test_data = data[np.where(folds==fold)[0], :]\n",
    "        mask = np.delete(np.arange(m), classcol)\n",
    "        X_train, X_test = train_data[:, mask], test_data[:, mask]\n",
    "        y_train, y_test = train_data[:, classcol], test_data[:, classcol]\n",
    "        clf = SKRandomForest(n_estimators=n_estimators)\n",
    "        clf.fit(X_train, y_train)\n",
    "        spn = clf.tospn()\n",
    "        y_pred = np.append(y_pred, np.argmax(clf.predict(X_test, vote=False), axis=1).astype(int))\n",
    "        if y_pred_2 is None:\n",
    "            y_pred_2 = spn.classify(X_test, classcol=X_test.shape[1])[0]\n",
    "        else:\n",
    "            y_pred_2 = np.append(y_pred_2, spn.classify(X_test, classcol=X_test.shape[1])[0])\n",
    "        y = np.append(y, y_test)\n",
    "    return y_pred, y_pred_2, y"
   ]
  },
  {
   "cell_type": "code",
   "execution_count": 13,
   "metadata": {},
   "outputs": [],
   "source": [
    "datasets = ['colic',\n",
    "            'car',\n",
    "            'breast-cancer',\n",
    "            'heart-h',\n",
    "            'bridges_version1',\n",
    "            'ecoli',\n",
    "            'autos',\n",
    "            'liver-disorders',\n",
    "            'cmc',\n",
    "            'diabetes',\n",
    "            'tic-tac-toe',\n",
    "            'solar-flare_2',\n",
    "            'zoo',\n",
    "            'flags',\n",
    "            'lymph',\n",
    "            'segment',\n",
    "            'hypothyroid',\n",
    "            'vowel',\n",
    "            'soybean',\n",
    "            'vehicle',\n",
    "            'dermatology',\n",
    "            'spambase',\n",
    "            'sick',\n",
    "            'balance-scale',\n",
    "            'nursery']"
   ]
  },
  {
   "cell_type": "markdown",
   "metadata": {},
   "source": [
    "## Run Comparison with single train-test split\n",
    "#### (Faster results)"
   ]
  },
  {
   "cell_type": "code",
   "execution_count": 32,
   "metadata": {},
   "outputs": [
    {
     "name": "stdout",
     "output_type": "stream",
     "text": [
      "colic\n",
      "ecoli\n",
      "breast-cancer\n",
      "flags\n",
      "heart-h\n",
      "solar-flare_2\n",
      "zoo\n",
      "tic-tac-toe\n",
      "lymph\n",
      "liver-disorders\n",
      "nursery\n",
      "bridges_version1\n",
      "hypothyroid\n",
      "segment\n",
      "autos\n",
      "sick\n",
      "vehicle\n",
      "spambase\n",
      "vowel\n",
      "car\n",
      "dermatology\n",
      "balance-scale\n",
      "cmc\n",
      "soybean\n",
      "diabetes\n"
     ]
    }
   ],
   "source": [
    "Acc = pd.DataFrame(columns=['Dataset', \n",
    "                            'Number of Instances', \n",
    "                            'Number of Variables', \n",
    "                            'Number of Classes',\n",
    "                            'RandomForest',\n",
    "                            'Derived SPN'])\n",
    "datafiles = glob.glob('../data/arff/*.{}'.format('arff'))\n",
    "for file in datafiles:\n",
    "    d = {}\n",
    "    name = Path(file).stem\n",
    "    if name in datasets:\n",
    "        print(name)\n",
    "        n_trees = 10\n",
    "        data = pd.DataFrame(loadarff(file)[0])\n",
    "        data = get_dummies(data).values\n",
    "        d['Dataset'] = name\n",
    "        d['Number of Instances'] = data.shape[0]\n",
    "        d['Number of Variables'] = data.shape[1]\n",
    "        d['Number of Classes'] = len(np.unique(data[:, -1]))\n",
    "        _, counts = np.unique(data[:, -1], return_counts=True)\n",
    "        \n",
    "        shuffle = np.random.choice(np.arange(data.shape[0]), data.shape[0], replace=False)\n",
    "        train_data = data[shuffle[:int(.7*data.shape[0])], :]\n",
    "        test_data = data[shuffle[int(.7*data.shape[0]):], :]\n",
    "\n",
    "        clf = SKRandomForest(n_estimators=2)\n",
    "        clf.fit(train_data[:, :-1], train_data[:, -1])\n",
    "        y_pred = np.argmax(clf.predict(test_data[:, :-1], vote=False), axis=1).astype(int)\n",
    "        \n",
    "        spn = clf.tospn()\n",
    "        y_pred_2 = spn.classify(test_data[:, :-1], classcol=data.shape[1]-1)[0]\n",
    "        \n",
    "        y = test_data[:, -1]\n",
    "        \n",
    "        d['RandomForest'] = np.mean(y_pred == y)\n",
    "        d['Derived SPN'] = np.mean(y_pred_2 == y)\n",
    "        Acc = Acc.append(d, ignore_index=True)"
   ]
  },
  {
   "cell_type": "code",
   "execution_count": 41,
   "metadata": {},
   "outputs": [
    {
     "data": {
      "text/html": [
       "<div>\n",
       "<style scoped>\n",
       "    .dataframe tbody tr th:only-of-type {\n",
       "        vertical-align: middle;\n",
       "    }\n",
       "\n",
       "    .dataframe tbody tr th {\n",
       "        vertical-align: top;\n",
       "    }\n",
       "\n",
       "    .dataframe thead th {\n",
       "        text-align: right;\n",
       "    }\n",
       "</style>\n",
       "<table border=\"1\" class=\"dataframe\">\n",
       "  <thead>\n",
       "    <tr style=\"text-align: right;\">\n",
       "      <th></th>\n",
       "      <th>Dataset</th>\n",
       "      <th>Number of Instances</th>\n",
       "      <th>Number of Variables</th>\n",
       "      <th>Number of Classes</th>\n",
       "      <th>RandomForest</th>\n",
       "      <th>Derived SPN</th>\n",
       "    </tr>\n",
       "  </thead>\n",
       "  <tbody>\n",
       "    <tr>\n",
       "      <th>0</th>\n",
       "      <td>colic</td>\n",
       "      <td>368</td>\n",
       "      <td>23</td>\n",
       "      <td>2</td>\n",
       "      <td>0.738739</td>\n",
       "      <td>0.774775</td>\n",
       "    </tr>\n",
       "    <tr>\n",
       "      <th>1</th>\n",
       "      <td>ecoli</td>\n",
       "      <td>336</td>\n",
       "      <td>6</td>\n",
       "      <td>8</td>\n",
       "      <td>0.712871</td>\n",
       "      <td>0.732673</td>\n",
       "    </tr>\n",
       "    <tr>\n",
       "      <th>2</th>\n",
       "      <td>breast-cancer</td>\n",
       "      <td>286</td>\n",
       "      <td>10</td>\n",
       "      <td>2</td>\n",
       "      <td>0.639535</td>\n",
       "      <td>0.627907</td>\n",
       "    </tr>\n",
       "    <tr>\n",
       "      <th>3</th>\n",
       "      <td>flags</td>\n",
       "      <td>194</td>\n",
       "      <td>29</td>\n",
       "      <td>8</td>\n",
       "      <td>0.440678</td>\n",
       "      <td>0.474576</td>\n",
       "    </tr>\n",
       "    <tr>\n",
       "      <th>4</th>\n",
       "      <td>heart-h</td>\n",
       "      <td>294</td>\n",
       "      <td>12</td>\n",
       "      <td>2</td>\n",
       "      <td>0.752809</td>\n",
       "      <td>0.752809</td>\n",
       "    </tr>\n",
       "    <tr>\n",
       "      <th>5</th>\n",
       "      <td>solar-flare_2</td>\n",
       "      <td>1066</td>\n",
       "      <td>12</td>\n",
       "      <td>6</td>\n",
       "      <td>0.715625</td>\n",
       "      <td>0.696875</td>\n",
       "    </tr>\n",
       "    <tr>\n",
       "      <th>6</th>\n",
       "      <td>zoo</td>\n",
       "      <td>101</td>\n",
       "      <td>17</td>\n",
       "      <td>7</td>\n",
       "      <td>0.870968</td>\n",
       "      <td>0.967742</td>\n",
       "    </tr>\n",
       "    <tr>\n",
       "      <th>7</th>\n",
       "      <td>tic-tac-toe</td>\n",
       "      <td>958</td>\n",
       "      <td>10</td>\n",
       "      <td>2</td>\n",
       "      <td>0.850694</td>\n",
       "      <td>0.822917</td>\n",
       "    </tr>\n",
       "    <tr>\n",
       "      <th>8</th>\n",
       "      <td>lymph</td>\n",
       "      <td>148</td>\n",
       "      <td>18</td>\n",
       "      <td>4</td>\n",
       "      <td>0.688889</td>\n",
       "      <td>0.755556</td>\n",
       "    </tr>\n",
       "    <tr>\n",
       "      <th>9</th>\n",
       "      <td>liver-disorders</td>\n",
       "      <td>345</td>\n",
       "      <td>7</td>\n",
       "      <td>2</td>\n",
       "      <td>0.586538</td>\n",
       "      <td>0.557692</td>\n",
       "    </tr>\n",
       "    <tr>\n",
       "      <th>10</th>\n",
       "      <td>nursery</td>\n",
       "      <td>12960</td>\n",
       "      <td>9</td>\n",
       "      <td>5</td>\n",
       "      <td>0.898405</td>\n",
       "      <td>0.932356</td>\n",
       "    </tr>\n",
       "    <tr>\n",
       "      <th>11</th>\n",
       "      <td>bridges_version1</td>\n",
       "      <td>107</td>\n",
       "      <td>11</td>\n",
       "      <td>6</td>\n",
       "      <td>0.424242</td>\n",
       "      <td>0.454545</td>\n",
       "    </tr>\n",
       "    <tr>\n",
       "      <th>12</th>\n",
       "      <td>hypothyroid</td>\n",
       "      <td>3772</td>\n",
       "      <td>28</td>\n",
       "      <td>4</td>\n",
       "      <td>0.898410</td>\n",
       "      <td>0.902827</td>\n",
       "    </tr>\n",
       "    <tr>\n",
       "      <th>13</th>\n",
       "      <td>segment</td>\n",
       "      <td>2310</td>\n",
       "      <td>17</td>\n",
       "      <td>7</td>\n",
       "      <td>0.796537</td>\n",
       "      <td>0.799423</td>\n",
       "    </tr>\n",
       "    <tr>\n",
       "      <th>14</th>\n",
       "      <td>autos</td>\n",
       "      <td>205</td>\n",
       "      <td>26</td>\n",
       "      <td>2</td>\n",
       "      <td>0.790323</td>\n",
       "      <td>0.790323</td>\n",
       "    </tr>\n",
       "    <tr>\n",
       "      <th>15</th>\n",
       "      <td>sick</td>\n",
       "      <td>3772</td>\n",
       "      <td>28</td>\n",
       "      <td>2</td>\n",
       "      <td>0.937279</td>\n",
       "      <td>0.932862</td>\n",
       "    </tr>\n",
       "    <tr>\n",
       "      <th>16</th>\n",
       "      <td>vehicle</td>\n",
       "      <td>846</td>\n",
       "      <td>19</td>\n",
       "      <td>4</td>\n",
       "      <td>0.610236</td>\n",
       "      <td>0.614173</td>\n",
       "    </tr>\n",
       "    <tr>\n",
       "      <th>17</th>\n",
       "      <td>spambase</td>\n",
       "      <td>4601</td>\n",
       "      <td>8</td>\n",
       "      <td>2</td>\n",
       "      <td>0.795076</td>\n",
       "      <td>0.792904</td>\n",
       "    </tr>\n",
       "    <tr>\n",
       "      <th>18</th>\n",
       "      <td>vowel</td>\n",
       "      <td>990</td>\n",
       "      <td>14</td>\n",
       "      <td>11</td>\n",
       "      <td>0.585859</td>\n",
       "      <td>0.653199</td>\n",
       "    </tr>\n",
       "    <tr>\n",
       "      <th>19</th>\n",
       "      <td>car</td>\n",
       "      <td>1728</td>\n",
       "      <td>7</td>\n",
       "      <td>4</td>\n",
       "      <td>0.863198</td>\n",
       "      <td>0.909441</td>\n",
       "    </tr>\n",
       "    <tr>\n",
       "      <th>20</th>\n",
       "      <td>dermatology</td>\n",
       "      <td>366</td>\n",
       "      <td>35</td>\n",
       "      <td>6</td>\n",
       "      <td>0.854545</td>\n",
       "      <td>0.936364</td>\n",
       "    </tr>\n",
       "    <tr>\n",
       "      <th>21</th>\n",
       "      <td>balance-scale</td>\n",
       "      <td>625</td>\n",
       "      <td>5</td>\n",
       "      <td>3</td>\n",
       "      <td>0.728723</td>\n",
       "      <td>0.728723</td>\n",
       "    </tr>\n",
       "    <tr>\n",
       "      <th>22</th>\n",
       "      <td>cmc</td>\n",
       "      <td>1473</td>\n",
       "      <td>10</td>\n",
       "      <td>3</td>\n",
       "      <td>0.461538</td>\n",
       "      <td>0.461538</td>\n",
       "    </tr>\n",
       "    <tr>\n",
       "      <th>23</th>\n",
       "      <td>soybean</td>\n",
       "      <td>683</td>\n",
       "      <td>36</td>\n",
       "      <td>19</td>\n",
       "      <td>0.775610</td>\n",
       "      <td>0.839024</td>\n",
       "    </tr>\n",
       "    <tr>\n",
       "      <th>24</th>\n",
       "      <td>diabetes</td>\n",
       "      <td>768</td>\n",
       "      <td>9</td>\n",
       "      <td>2</td>\n",
       "      <td>0.688312</td>\n",
       "      <td>0.688312</td>\n",
       "    </tr>\n",
       "  </tbody>\n",
       "</table>\n",
       "</div>"
      ],
      "text/plain": [
       "             Dataset Number of Instances Number of Variables  \\\n",
       "0              colic                 368                  23   \n",
       "1              ecoli                 336                   6   \n",
       "2      breast-cancer                 286                  10   \n",
       "3              flags                 194                  29   \n",
       "4            heart-h                 294                  12   \n",
       "5      solar-flare_2                1066                  12   \n",
       "6                zoo                 101                  17   \n",
       "7        tic-tac-toe                 958                  10   \n",
       "8              lymph                 148                  18   \n",
       "9    liver-disorders                 345                   7   \n",
       "10           nursery               12960                   9   \n",
       "11  bridges_version1                 107                  11   \n",
       "12       hypothyroid                3772                  28   \n",
       "13           segment                2310                  17   \n",
       "14             autos                 205                  26   \n",
       "15              sick                3772                  28   \n",
       "16           vehicle                 846                  19   \n",
       "17          spambase                4601                   8   \n",
       "18             vowel                 990                  14   \n",
       "19               car                1728                   7   \n",
       "20       dermatology                 366                  35   \n",
       "21     balance-scale                 625                   5   \n",
       "22               cmc                1473                  10   \n",
       "23           soybean                 683                  36   \n",
       "24          diabetes                 768                   9   \n",
       "\n",
       "   Number of Classes  RandomForest  Derived SPN  \n",
       "0                  2      0.738739     0.774775  \n",
       "1                  8      0.712871     0.732673  \n",
       "2                  2      0.639535     0.627907  \n",
       "3                  8      0.440678     0.474576  \n",
       "4                  2      0.752809     0.752809  \n",
       "5                  6      0.715625     0.696875  \n",
       "6                  7      0.870968     0.967742  \n",
       "7                  2      0.850694     0.822917  \n",
       "8                  4      0.688889     0.755556  \n",
       "9                  2      0.586538     0.557692  \n",
       "10                 5      0.898405     0.932356  \n",
       "11                 6      0.424242     0.454545  \n",
       "12                 4      0.898410     0.902827  \n",
       "13                 7      0.796537     0.799423  \n",
       "14                 2      0.790323     0.790323  \n",
       "15                 2      0.937279     0.932862  \n",
       "16                 4      0.610236     0.614173  \n",
       "17                 2      0.795076     0.792904  \n",
       "18                11      0.585859     0.653199  \n",
       "19                 4      0.863198     0.909441  \n",
       "20                 6      0.854545     0.936364  \n",
       "21                 3      0.728723     0.728723  \n",
       "22                 3      0.461538     0.461538  \n",
       "23                19      0.775610     0.839024  \n",
       "24                 2      0.688312     0.688312  "
      ]
     },
     "execution_count": 41,
     "metadata": {},
     "output_type": "execute_result"
    }
   ],
   "source": [
    "Acc"
   ]
  },
  {
   "cell_type": "markdown",
   "metadata": {},
   "source": [
    "## Run 5-fold cross-validation"
   ]
  },
  {
   "cell_type": "code",
   "execution_count": 44,
   "metadata": {},
   "outputs": [
    {
     "name": "stdout",
     "output_type": "stream",
     "text": [
      "colic\n",
      "Taking last column as the class variable.\n",
      "ecoli\n",
      "Taking last column as the class variable.\n",
      "breast-cancer\n",
      "Taking last column as the class variable.\n",
      "flags\n",
      "Taking last column as the class variable.\n",
      "heart-h\n",
      "Taking last column as the class variable.\n",
      "solar-flare_2\n",
      "Taking last column as the class variable.\n",
      "zoo\n",
      "Taking last column as the class variable.\n",
      "Too many folds for this dataset. Using 3 \n",
      "tic-tac-toe\n",
      "Taking last column as the class variable.\n",
      "lymph\n",
      "Taking last column as the class variable.\n",
      "Too many folds for this dataset. Using 4 \n",
      "liver-disorders\n",
      "Taking last column as the class variable.\n",
      "nursery\n",
      "Taking last column as the class variable.\n",
      "bridges_version1\n",
      "Taking last column as the class variable.\n",
      "Too many folds for this dataset. Using 3 \n",
      "hypothyroid\n",
      "Taking last column as the class variable.\n",
      "segment\n",
      "Taking last column as the class variable.\n",
      "autos\n",
      "Taking last column as the class variable.\n",
      "sick\n",
      "Taking last column as the class variable.\n",
      "vehicle\n",
      "Taking last column as the class variable.\n",
      "spambase\n",
      "Taking last column as the class variable.\n",
      "vowel\n",
      "Taking last column as the class variable.\n",
      "car\n",
      "Taking last column as the class variable.\n",
      "dermatology\n",
      "Taking last column as the class variable.\n",
      "balance-scale\n",
      "Taking last column as the class variable.\n",
      "cmc\n",
      "Taking last column as the class variable.\n",
      "soybean\n",
      "Taking last column as the class variable.\n",
      "diabetes\n",
      "Taking last column as the class variable.\n"
     ]
    }
   ],
   "source": [
    "Acc = pd.DataFrame(columns=['Dataset', \n",
    "                            'Number of Instances', \n",
    "                            'Number of Variables', \n",
    "                            'Number of Classes',\n",
    "                            'RandomForest',\n",
    "                            'Derived SPN'])\n",
    "datafiles = glob.glob('../data/arff/*.{}'.format('arff'))\n",
    "for file in datafiles:\n",
    "    d = {}\n",
    "    name = Path(file).stem\n",
    "    if name in datasets:\n",
    "        print(name)\n",
    "        n_trees = 10\n",
    "        data = pd.DataFrame(loadarff(file)[0])\n",
    "        data = get_dummies(data).values\n",
    "        d['Dataset'] = name\n",
    "        d['Number of Instances'] = data.shape[0]\n",
    "        d['Number of Variables'] = data.shape[1]\n",
    "        d['Number of Classes'] = len(np.unique(data[:, -1]))\n",
    "        _, counts = np.unique(data[:, -1], return_counts=True)\n",
    "        \n",
    "        y_pred, y_pred_2, y = sk_rf_cv(data.copy(), n_folds=5, n_estimators=n_trees)\n",
    "        d['RandomForest'] = np.mean(y_pred == y)\n",
    "        d['Derived SPN'] = np.mean(y_pred_2 == y)\n",
    "        Acc = Acc.append(d, ignore_index=True)"
   ]
  },
  {
   "cell_type": "code",
   "execution_count": 45,
   "metadata": {},
   "outputs": [
    {
     "data": {
      "text/html": [
       "<div>\n",
       "<style scoped>\n",
       "    .dataframe tbody tr th:only-of-type {\n",
       "        vertical-align: middle;\n",
       "    }\n",
       "\n",
       "    .dataframe tbody tr th {\n",
       "        vertical-align: top;\n",
       "    }\n",
       "\n",
       "    .dataframe thead th {\n",
       "        text-align: right;\n",
       "    }\n",
       "</style>\n",
       "<table border=\"1\" class=\"dataframe\">\n",
       "  <thead>\n",
       "    <tr style=\"text-align: right;\">\n",
       "      <th></th>\n",
       "      <th>Dataset</th>\n",
       "      <th>Number of Instances</th>\n",
       "      <th>Number of Variables</th>\n",
       "      <th>Number of Classes</th>\n",
       "      <th>RandomForest</th>\n",
       "      <th>Derived SPN</th>\n",
       "    </tr>\n",
       "  </thead>\n",
       "  <tbody>\n",
       "    <tr>\n",
       "      <th>0</th>\n",
       "      <td>colic</td>\n",
       "      <td>368</td>\n",
       "      <td>23</td>\n",
       "      <td>2</td>\n",
       "      <td>0.820652</td>\n",
       "      <td>0.842391</td>\n",
       "    </tr>\n",
       "    <tr>\n",
       "      <th>1</th>\n",
       "      <td>ecoli</td>\n",
       "      <td>336</td>\n",
       "      <td>6</td>\n",
       "      <td>8</td>\n",
       "      <td>0.729167</td>\n",
       "      <td>0.726190</td>\n",
       "    </tr>\n",
       "    <tr>\n",
       "      <th>2</th>\n",
       "      <td>breast-cancer</td>\n",
       "      <td>286</td>\n",
       "      <td>10</td>\n",
       "      <td>2</td>\n",
       "      <td>0.699301</td>\n",
       "      <td>0.716783</td>\n",
       "    </tr>\n",
       "    <tr>\n",
       "      <th>3</th>\n",
       "      <td>flags</td>\n",
       "      <td>194</td>\n",
       "      <td>29</td>\n",
       "      <td>8</td>\n",
       "      <td>0.623711</td>\n",
       "      <td>0.603093</td>\n",
       "    </tr>\n",
       "    <tr>\n",
       "      <th>4</th>\n",
       "      <td>heart-h</td>\n",
       "      <td>294</td>\n",
       "      <td>12</td>\n",
       "      <td>2</td>\n",
       "      <td>0.795918</td>\n",
       "      <td>0.782313</td>\n",
       "    </tr>\n",
       "    <tr>\n",
       "      <th>5</th>\n",
       "      <td>solar-flare_2</td>\n",
       "      <td>1066</td>\n",
       "      <td>12</td>\n",
       "      <td>6</td>\n",
       "      <td>0.728893</td>\n",
       "      <td>0.730769</td>\n",
       "    </tr>\n",
       "    <tr>\n",
       "      <th>6</th>\n",
       "      <td>zoo</td>\n",
       "      <td>101</td>\n",
       "      <td>17</td>\n",
       "      <td>7</td>\n",
       "      <td>0.950495</td>\n",
       "      <td>0.930693</td>\n",
       "    </tr>\n",
       "    <tr>\n",
       "      <th>7</th>\n",
       "      <td>tic-tac-toe</td>\n",
       "      <td>958</td>\n",
       "      <td>10</td>\n",
       "      <td>2</td>\n",
       "      <td>0.934238</td>\n",
       "      <td>0.911273</td>\n",
       "    </tr>\n",
       "    <tr>\n",
       "      <th>8</th>\n",
       "      <td>lymph</td>\n",
       "      <td>148</td>\n",
       "      <td>18</td>\n",
       "      <td>4</td>\n",
       "      <td>0.790541</td>\n",
       "      <td>0.797297</td>\n",
       "    </tr>\n",
       "    <tr>\n",
       "      <th>9</th>\n",
       "      <td>liver-disorders</td>\n",
       "      <td>345</td>\n",
       "      <td>7</td>\n",
       "      <td>2</td>\n",
       "      <td>0.631884</td>\n",
       "      <td>0.640580</td>\n",
       "    </tr>\n",
       "    <tr>\n",
       "      <th>10</th>\n",
       "      <td>nursery</td>\n",
       "      <td>12960</td>\n",
       "      <td>9</td>\n",
       "      <td>5</td>\n",
       "      <td>0.969985</td>\n",
       "      <td>0.968750</td>\n",
       "    </tr>\n",
       "    <tr>\n",
       "      <th>11</th>\n",
       "      <td>bridges_version1</td>\n",
       "      <td>107</td>\n",
       "      <td>11</td>\n",
       "      <td>6</td>\n",
       "      <td>0.682243</td>\n",
       "      <td>0.616822</td>\n",
       "    </tr>\n",
       "    <tr>\n",
       "      <th>12</th>\n",
       "      <td>hypothyroid</td>\n",
       "      <td>3772</td>\n",
       "      <td>28</td>\n",
       "      <td>4</td>\n",
       "      <td>0.913839</td>\n",
       "      <td>0.917020</td>\n",
       "    </tr>\n",
       "    <tr>\n",
       "      <th>13</th>\n",
       "      <td>segment</td>\n",
       "      <td>2310</td>\n",
       "      <td>17</td>\n",
       "      <td>7</td>\n",
       "      <td>0.817749</td>\n",
       "      <td>0.812554</td>\n",
       "    </tr>\n",
       "    <tr>\n",
       "      <th>14</th>\n",
       "      <td>autos</td>\n",
       "      <td>205</td>\n",
       "      <td>26</td>\n",
       "      <td>2</td>\n",
       "      <td>0.887805</td>\n",
       "      <td>0.863415</td>\n",
       "    </tr>\n",
       "    <tr>\n",
       "      <th>15</th>\n",
       "      <td>sick</td>\n",
       "      <td>3772</td>\n",
       "      <td>28</td>\n",
       "      <td>2</td>\n",
       "      <td>0.929745</td>\n",
       "      <td>0.933192</td>\n",
       "    </tr>\n",
       "    <tr>\n",
       "      <th>16</th>\n",
       "      <td>vehicle</td>\n",
       "      <td>846</td>\n",
       "      <td>19</td>\n",
       "      <td>4</td>\n",
       "      <td>0.633570</td>\n",
       "      <td>0.628842</td>\n",
       "    </tr>\n",
       "    <tr>\n",
       "      <th>17</th>\n",
       "      <td>spambase</td>\n",
       "      <td>4601</td>\n",
       "      <td>8</td>\n",
       "      <td>2</td>\n",
       "      <td>0.794393</td>\n",
       "      <td>0.795697</td>\n",
       "    </tr>\n",
       "    <tr>\n",
       "      <th>18</th>\n",
       "      <td>vowel</td>\n",
       "      <td>990</td>\n",
       "      <td>14</td>\n",
       "      <td>11</td>\n",
       "      <td>0.754545</td>\n",
       "      <td>0.711111</td>\n",
       "    </tr>\n",
       "    <tr>\n",
       "      <th>19</th>\n",
       "      <td>car</td>\n",
       "      <td>1728</td>\n",
       "      <td>7</td>\n",
       "      <td>4</td>\n",
       "      <td>0.954282</td>\n",
       "      <td>0.950810</td>\n",
       "    </tr>\n",
       "    <tr>\n",
       "      <th>20</th>\n",
       "      <td>dermatology</td>\n",
       "      <td>366</td>\n",
       "      <td>35</td>\n",
       "      <td>6</td>\n",
       "      <td>0.964481</td>\n",
       "      <td>0.972678</td>\n",
       "    </tr>\n",
       "    <tr>\n",
       "      <th>21</th>\n",
       "      <td>balance-scale</td>\n",
       "      <td>625</td>\n",
       "      <td>5</td>\n",
       "      <td>3</td>\n",
       "      <td>0.728000</td>\n",
       "      <td>0.729600</td>\n",
       "    </tr>\n",
       "    <tr>\n",
       "      <th>22</th>\n",
       "      <td>cmc</td>\n",
       "      <td>1473</td>\n",
       "      <td>10</td>\n",
       "      <td>3</td>\n",
       "      <td>0.484725</td>\n",
       "      <td>0.494908</td>\n",
       "    </tr>\n",
       "    <tr>\n",
       "      <th>23</th>\n",
       "      <td>soybean</td>\n",
       "      <td>683</td>\n",
       "      <td>36</td>\n",
       "      <td>19</td>\n",
       "      <td>0.923865</td>\n",
       "      <td>0.913616</td>\n",
       "    </tr>\n",
       "    <tr>\n",
       "      <th>24</th>\n",
       "      <td>diabetes</td>\n",
       "      <td>768</td>\n",
       "      <td>9</td>\n",
       "      <td>2</td>\n",
       "      <td>0.679688</td>\n",
       "      <td>0.691406</td>\n",
       "    </tr>\n",
       "  </tbody>\n",
       "</table>\n",
       "</div>"
      ],
      "text/plain": [
       "             Dataset Number of Instances Number of Variables  \\\n",
       "0              colic                 368                  23   \n",
       "1              ecoli                 336                   6   \n",
       "2      breast-cancer                 286                  10   \n",
       "3              flags                 194                  29   \n",
       "4            heart-h                 294                  12   \n",
       "5      solar-flare_2                1066                  12   \n",
       "6                zoo                 101                  17   \n",
       "7        tic-tac-toe                 958                  10   \n",
       "8              lymph                 148                  18   \n",
       "9    liver-disorders                 345                   7   \n",
       "10           nursery               12960                   9   \n",
       "11  bridges_version1                 107                  11   \n",
       "12       hypothyroid                3772                  28   \n",
       "13           segment                2310                  17   \n",
       "14             autos                 205                  26   \n",
       "15              sick                3772                  28   \n",
       "16           vehicle                 846                  19   \n",
       "17          spambase                4601                   8   \n",
       "18             vowel                 990                  14   \n",
       "19               car                1728                   7   \n",
       "20       dermatology                 366                  35   \n",
       "21     balance-scale                 625                   5   \n",
       "22               cmc                1473                  10   \n",
       "23           soybean                 683                  36   \n",
       "24          diabetes                 768                   9   \n",
       "\n",
       "   Number of Classes  RandomForest  Derived SPN  \n",
       "0                  2      0.820652     0.842391  \n",
       "1                  8      0.729167     0.726190  \n",
       "2                  2      0.699301     0.716783  \n",
       "3                  8      0.623711     0.603093  \n",
       "4                  2      0.795918     0.782313  \n",
       "5                  6      0.728893     0.730769  \n",
       "6                  7      0.950495     0.930693  \n",
       "7                  2      0.934238     0.911273  \n",
       "8                  4      0.790541     0.797297  \n",
       "9                  2      0.631884     0.640580  \n",
       "10                 5      0.969985     0.968750  \n",
       "11                 6      0.682243     0.616822  \n",
       "12                 4      0.913839     0.917020  \n",
       "13                 7      0.817749     0.812554  \n",
       "14                 2      0.887805     0.863415  \n",
       "15                 2      0.929745     0.933192  \n",
       "16                 4      0.633570     0.628842  \n",
       "17                 2      0.794393     0.795697  \n",
       "18                11      0.754545     0.711111  \n",
       "19                 4      0.954282     0.950810  \n",
       "20                 6      0.964481     0.972678  \n",
       "21                 3      0.728000     0.729600  \n",
       "22                 3      0.484725     0.494908  \n",
       "23                19      0.923865     0.913616  \n",
       "24                 2      0.679688     0.691406  "
      ]
     },
     "execution_count": 45,
     "metadata": {},
     "output_type": "execute_result"
    }
   ],
   "source": [
    "Acc"
   ]
  }
 ],
 "metadata": {
  "kernelspec": {
   "display_name": "Python 3",
   "language": "python",
   "name": "python3"
  },
  "language_info": {
   "codemirror_mode": {
    "name": "ipython",
    "version": 3
   },
   "file_extension": ".py",
   "mimetype": "text/x-python",
   "name": "python",
   "nbconvert_exporter": "python",
   "pygments_lexer": "ipython3",
   "version": "3.7.5"
  }
 },
 "nbformat": 4,
 "nbformat_minor": 2
}
